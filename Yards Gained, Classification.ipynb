{
 "cells": [
  {
   "cell_type": "code",
   "execution_count": 1,
   "metadata": {},
   "outputs": [],
   "source": [
    "import pandas as pd\n",
    "from sklearn import preprocessing\n",
    "from sklearn.utils import shuffle\n",
    "import numpy as np\n",
    "import math\n",
    "import shap\n",
    "from sklearn.metrics import confusion_matrix\n",
    "import tensorflow as tf\n",
    "import seaborn as sns"
   ]
  },
  {
   "cell_type": "markdown",
   "metadata": {},
   "source": [
    "DATA PREPARATION"
   ]
  },
  {
   "cell_type": "code",
   "execution_count": 2,
   "metadata": {},
   "outputs": [
    {
     "name": "stderr",
     "output_type": "stream",
     "text": [
      "Columns (42,166,167,168,169,174,175,178,179,182,183,188,189,190,191,194,195,203,204,205,218,219,220,231,232,233,238,240,241,249) have mixed types.Specify dtype option on import or set low_memory=False.\n"
     ]
    }
   ],
   "source": [
    "df = pd.read_csv('NFL PBP.csv')"
   ]
  },
  {
   "cell_type": "code",
   "execution_count": 3,
   "metadata": {},
   "outputs": [
    {
     "data": {
      "text/plain": [
       "(449371, 255)"
      ]
     },
     "execution_count": 3,
     "metadata": {},
     "output_type": "execute_result"
    }
   ],
   "source": [
    "df.shape"
   ]
  },
  {
   "cell_type": "code",
   "execution_count": 4,
   "metadata": {},
   "outputs": [
    {
     "data": {
      "text/html": [
       "<div>\n",
       "<style scoped>\n",
       "    .dataframe tbody tr th:only-of-type {\n",
       "        vertical-align: middle;\n",
       "    }\n",
       "\n",
       "    .dataframe tbody tr th {\n",
       "        vertical-align: top;\n",
       "    }\n",
       "\n",
       "    .dataframe thead th {\n",
       "        text-align: right;\n",
       "    }\n",
       "</style>\n",
       "<table border=\"1\" class=\"dataframe\">\n",
       "  <thead>\n",
       "    <tr style=\"text-align: right;\">\n",
       "      <th></th>\n",
       "      <th>play_id</th>\n",
       "      <th>game_id</th>\n",
       "      <th>home_team</th>\n",
       "      <th>away_team</th>\n",
       "      <th>posteam</th>\n",
       "      <th>posteam_type</th>\n",
       "      <th>defteam</th>\n",
       "      <th>side_of_field</th>\n",
       "      <th>yardline_100</th>\n",
       "      <th>game_date</th>\n",
       "      <th>...</th>\n",
       "      <th>penalty_player_id</th>\n",
       "      <th>penalty_player_name</th>\n",
       "      <th>penalty_yards</th>\n",
       "      <th>replay_or_challenge</th>\n",
       "      <th>replay_or_challenge_result</th>\n",
       "      <th>penalty_type</th>\n",
       "      <th>defensive_two_point_attempt</th>\n",
       "      <th>defensive_two_point_conv</th>\n",
       "      <th>defensive_extra_point_attempt</th>\n",
       "      <th>defensive_extra_point_conv</th>\n",
       "    </tr>\n",
       "  </thead>\n",
       "  <tbody>\n",
       "    <tr>\n",
       "      <th>0</th>\n",
       "      <td>46</td>\n",
       "      <td>2009091000</td>\n",
       "      <td>PIT</td>\n",
       "      <td>TEN</td>\n",
       "      <td>PIT</td>\n",
       "      <td>home</td>\n",
       "      <td>TEN</td>\n",
       "      <td>TEN</td>\n",
       "      <td>30.0</td>\n",
       "      <td>2009-09-10</td>\n",
       "      <td>...</td>\n",
       "      <td>NaN</td>\n",
       "      <td>NaN</td>\n",
       "      <td>NaN</td>\n",
       "      <td>0</td>\n",
       "      <td>NaN</td>\n",
       "      <td>NaN</td>\n",
       "      <td>0.0</td>\n",
       "      <td>0.0</td>\n",
       "      <td>0.0</td>\n",
       "      <td>0.0</td>\n",
       "    </tr>\n",
       "    <tr>\n",
       "      <th>1</th>\n",
       "      <td>68</td>\n",
       "      <td>2009091000</td>\n",
       "      <td>PIT</td>\n",
       "      <td>TEN</td>\n",
       "      <td>PIT</td>\n",
       "      <td>home</td>\n",
       "      <td>TEN</td>\n",
       "      <td>PIT</td>\n",
       "      <td>58.0</td>\n",
       "      <td>2009-09-10</td>\n",
       "      <td>...</td>\n",
       "      <td>NaN</td>\n",
       "      <td>NaN</td>\n",
       "      <td>NaN</td>\n",
       "      <td>0</td>\n",
       "      <td>NaN</td>\n",
       "      <td>NaN</td>\n",
       "      <td>0.0</td>\n",
       "      <td>0.0</td>\n",
       "      <td>0.0</td>\n",
       "      <td>0.0</td>\n",
       "    </tr>\n",
       "    <tr>\n",
       "      <th>2</th>\n",
       "      <td>92</td>\n",
       "      <td>2009091000</td>\n",
       "      <td>PIT</td>\n",
       "      <td>TEN</td>\n",
       "      <td>PIT</td>\n",
       "      <td>home</td>\n",
       "      <td>TEN</td>\n",
       "      <td>PIT</td>\n",
       "      <td>53.0</td>\n",
       "      <td>2009-09-10</td>\n",
       "      <td>...</td>\n",
       "      <td>NaN</td>\n",
       "      <td>NaN</td>\n",
       "      <td>NaN</td>\n",
       "      <td>0</td>\n",
       "      <td>NaN</td>\n",
       "      <td>NaN</td>\n",
       "      <td>0.0</td>\n",
       "      <td>0.0</td>\n",
       "      <td>0.0</td>\n",
       "      <td>0.0</td>\n",
       "    </tr>\n",
       "    <tr>\n",
       "      <th>3</th>\n",
       "      <td>113</td>\n",
       "      <td>2009091000</td>\n",
       "      <td>PIT</td>\n",
       "      <td>TEN</td>\n",
       "      <td>PIT</td>\n",
       "      <td>home</td>\n",
       "      <td>TEN</td>\n",
       "      <td>PIT</td>\n",
       "      <td>56.0</td>\n",
       "      <td>2009-09-10</td>\n",
       "      <td>...</td>\n",
       "      <td>NaN</td>\n",
       "      <td>NaN</td>\n",
       "      <td>NaN</td>\n",
       "      <td>0</td>\n",
       "      <td>NaN</td>\n",
       "      <td>NaN</td>\n",
       "      <td>0.0</td>\n",
       "      <td>0.0</td>\n",
       "      <td>0.0</td>\n",
       "      <td>0.0</td>\n",
       "    </tr>\n",
       "    <tr>\n",
       "      <th>4</th>\n",
       "      <td>139</td>\n",
       "      <td>2009091000</td>\n",
       "      <td>PIT</td>\n",
       "      <td>TEN</td>\n",
       "      <td>PIT</td>\n",
       "      <td>home</td>\n",
       "      <td>TEN</td>\n",
       "      <td>PIT</td>\n",
       "      <td>56.0</td>\n",
       "      <td>2009-09-10</td>\n",
       "      <td>...</td>\n",
       "      <td>NaN</td>\n",
       "      <td>NaN</td>\n",
       "      <td>NaN</td>\n",
       "      <td>0</td>\n",
       "      <td>NaN</td>\n",
       "      <td>NaN</td>\n",
       "      <td>0.0</td>\n",
       "      <td>0.0</td>\n",
       "      <td>0.0</td>\n",
       "      <td>0.0</td>\n",
       "    </tr>\n",
       "  </tbody>\n",
       "</table>\n",
       "<p>5 rows × 255 columns</p>\n",
       "</div>"
      ],
      "text/plain": [
       "   play_id     game_id home_team away_team posteam posteam_type defteam  \\\n",
       "0       46  2009091000       PIT       TEN     PIT         home     TEN   \n",
       "1       68  2009091000       PIT       TEN     PIT         home     TEN   \n",
       "2       92  2009091000       PIT       TEN     PIT         home     TEN   \n",
       "3      113  2009091000       PIT       TEN     PIT         home     TEN   \n",
       "4      139  2009091000       PIT       TEN     PIT         home     TEN   \n",
       "\n",
       "  side_of_field  yardline_100   game_date  ...  penalty_player_id  \\\n",
       "0           TEN          30.0  2009-09-10  ...                NaN   \n",
       "1           PIT          58.0  2009-09-10  ...                NaN   \n",
       "2           PIT          53.0  2009-09-10  ...                NaN   \n",
       "3           PIT          56.0  2009-09-10  ...                NaN   \n",
       "4           PIT          56.0  2009-09-10  ...                NaN   \n",
       "\n",
       "   penalty_player_name  penalty_yards replay_or_challenge  \\\n",
       "0                  NaN            NaN                   0   \n",
       "1                  NaN            NaN                   0   \n",
       "2                  NaN            NaN                   0   \n",
       "3                  NaN            NaN                   0   \n",
       "4                  NaN            NaN                   0   \n",
       "\n",
       "   replay_or_challenge_result  penalty_type  defensive_two_point_attempt  \\\n",
       "0                         NaN           NaN                          0.0   \n",
       "1                         NaN           NaN                          0.0   \n",
       "2                         NaN           NaN                          0.0   \n",
       "3                         NaN           NaN                          0.0   \n",
       "4                         NaN           NaN                          0.0   \n",
       "\n",
       "   defensive_two_point_conv  defensive_extra_point_attempt  \\\n",
       "0                       0.0                            0.0   \n",
       "1                       0.0                            0.0   \n",
       "2                       0.0                            0.0   \n",
       "3                       0.0                            0.0   \n",
       "4                       0.0                            0.0   \n",
       "\n",
       "   defensive_extra_point_conv  \n",
       "0                         0.0  \n",
       "1                         0.0  \n",
       "2                         0.0  \n",
       "3                         0.0  \n",
       "4                         0.0  \n",
       "\n",
       "[5 rows x 255 columns]"
      ]
     },
     "execution_count": 4,
     "metadata": {},
     "output_type": "execute_result"
    }
   ],
   "source": [
    "df.head()"
   ]
  },
  {
   "cell_type": "code",
   "execution_count": 5,
   "metadata": {},
   "outputs": [],
   "source": [
    "df.loc[df['yards_gained'] < 3, 'yards_gained'] = 0\n",
    "df.loc[(df['yards_gained'] >= 3) & (df['yards_gained'] < 6), 'yards_gained'] = 1\n",
    "df.loc[(df['yards_gained'] >= 6) & (df['yards_gained'] < 10), 'yards_gained'] = 2\n",
    "df.loc[df['yards_gained'] >= 10, 'yards_gained'] = 3"
   ]
  },
  {
   "cell_type": "code",
   "execution_count": 6,
   "metadata": {},
   "outputs": [
    {
     "data": {
      "text/html": [
       "<div>\n",
       "<style scoped>\n",
       "    .dataframe tbody tr th:only-of-type {\n",
       "        vertical-align: middle;\n",
       "    }\n",
       "\n",
       "    .dataframe tbody tr th {\n",
       "        vertical-align: top;\n",
       "    }\n",
       "\n",
       "    .dataframe thead th {\n",
       "        text-align: right;\n",
       "    }\n",
       "</style>\n",
       "<table border=\"1\" class=\"dataframe\">\n",
       "  <thead>\n",
       "    <tr style=\"text-align: right;\">\n",
       "      <th></th>\n",
       "      <th>game_seconds_remaining</th>\n",
       "      <th>ydstogo</th>\n",
       "      <th>posteam_score</th>\n",
       "      <th>defteam_score</th>\n",
       "      <th>down</th>\n",
       "      <th>shotgun</th>\n",
       "      <th>play_type</th>\n",
       "      <th>qb_kneel</th>\n",
       "      <th>qb_spike</th>\n",
       "      <th>yards_gained</th>\n",
       "      <th>yardline_100</th>\n",
       "      <th>Player</th>\n",
       "      <th>Year</th>\n",
       "    </tr>\n",
       "  </thead>\n",
       "  <tbody>\n",
       "    <tr>\n",
       "      <th>1</th>\n",
       "      <td>3593.0</td>\n",
       "      <td>10</td>\n",
       "      <td>0.0</td>\n",
       "      <td>0.0</td>\n",
       "      <td>1.0</td>\n",
       "      <td>0</td>\n",
       "      <td>pass</td>\n",
       "      <td>0</td>\n",
       "      <td>0</td>\n",
       "      <td>1.0</td>\n",
       "      <td>58.0</td>\n",
       "      <td>B Roethlisberger</td>\n",
       "      <td>2009</td>\n",
       "    </tr>\n",
       "    <tr>\n",
       "      <th>2</th>\n",
       "      <td>3556.0</td>\n",
       "      <td>5</td>\n",
       "      <td>0.0</td>\n",
       "      <td>0.0</td>\n",
       "      <td>2.0</td>\n",
       "      <td>0</td>\n",
       "      <td>run</td>\n",
       "      <td>0</td>\n",
       "      <td>0</td>\n",
       "      <td>0.0</td>\n",
       "      <td>53.0</td>\n",
       "      <td>W Parker</td>\n",
       "      <td>2009</td>\n",
       "    </tr>\n",
       "    <tr>\n",
       "      <th>3</th>\n",
       "      <td>3515.0</td>\n",
       "      <td>8</td>\n",
       "      <td>0.0</td>\n",
       "      <td>0.0</td>\n",
       "      <td>3.0</td>\n",
       "      <td>1</td>\n",
       "      <td>pass</td>\n",
       "      <td>0</td>\n",
       "      <td>0</td>\n",
       "      <td>0.0</td>\n",
       "      <td>56.0</td>\n",
       "      <td>B Roethlisberger</td>\n",
       "      <td>2009</td>\n",
       "    </tr>\n",
       "    <tr>\n",
       "      <th>5</th>\n",
       "      <td>3496.0</td>\n",
       "      <td>10</td>\n",
       "      <td>0.0</td>\n",
       "      <td>0.0</td>\n",
       "      <td>1.0</td>\n",
       "      <td>0</td>\n",
       "      <td>run</td>\n",
       "      <td>0</td>\n",
       "      <td>0</td>\n",
       "      <td>0.0</td>\n",
       "      <td>98.0</td>\n",
       "      <td>C Johnson</td>\n",
       "      <td>2009</td>\n",
       "    </tr>\n",
       "    <tr>\n",
       "      <th>6</th>\n",
       "      <td>3460.0</td>\n",
       "      <td>10</td>\n",
       "      <td>0.0</td>\n",
       "      <td>0.0</td>\n",
       "      <td>2.0</td>\n",
       "      <td>0</td>\n",
       "      <td>pass</td>\n",
       "      <td>0</td>\n",
       "      <td>0</td>\n",
       "      <td>1.0</td>\n",
       "      <td>98.0</td>\n",
       "      <td>K Collins</td>\n",
       "      <td>2009</td>\n",
       "    </tr>\n",
       "  </tbody>\n",
       "</table>\n",
       "</div>"
      ],
      "text/plain": [
       "   game_seconds_remaining  ydstogo  posteam_score  defteam_score  down  \\\n",
       "1                  3593.0       10            0.0            0.0   1.0   \n",
       "2                  3556.0        5            0.0            0.0   2.0   \n",
       "3                  3515.0        8            0.0            0.0   3.0   \n",
       "5                  3496.0       10            0.0            0.0   1.0   \n",
       "6                  3460.0       10            0.0            0.0   2.0   \n",
       "\n",
       "   shotgun play_type  qb_kneel  qb_spike  yards_gained  yardline_100  \\\n",
       "1        0      pass         0         0           1.0          58.0   \n",
       "2        0       run         0         0           0.0          53.0   \n",
       "3        1      pass         0         0           0.0          56.0   \n",
       "5        0       run         0         0           0.0          98.0   \n",
       "6        0      pass         0         0           1.0          98.0   \n",
       "\n",
       "             Player  Year  \n",
       "1  B Roethlisberger  2009  \n",
       "2          W Parker  2009  \n",
       "3  B Roethlisberger  2009  \n",
       "5         C Johnson  2009  \n",
       "6         K Collins  2009  "
      ]
     },
     "execution_count": 6,
     "metadata": {},
     "output_type": "execute_result"
    }
   ],
   "source": [
    "df['game_id'] = df['game_id'].astype(str)\n",
    "df['desc'] = df['desc'].astype(str)\n",
    "\n",
    "# clean the data\n",
    "for i in range(len(df['game_id'])):\n",
    "    df.at[i, 'Year'] = df['game_id'][i][0:4] # will give the year of the game\n",
    "    \n",
    "for i in range(len(df['desc'])):\n",
    "    if df['desc'][i].count('(') >= 1:\n",
    "        # access the first letter before period and the word after (this will give full name; all in the description 'desc')\n",
    "        number = df['desc'][i].find('.') \n",
    "        df.at[i, 'Player'] = df['desc'][i][number-1] + ' ' + df['desc'][i][number+1:].split(' ')[0]\n",
    "    else:\n",
    "        pass # do nothing\n",
    "\n",
    "nfl_data = df[['game_seconds_remaining', \n",
    "               'ydstogo',\n",
    "               'posteam_score',\n",
    "               'defteam_score',\n",
    "               'down',\n",
    "               'shotgun',\n",
    "               'play_type',\n",
    "               'qb_kneel',\n",
    "               'qb_spike',\n",
    "               'yards_gained',\n",
    "               'yardline_100',\n",
    "               'Player',\n",
    "               'Year']].query(\n",
    "                '(play_type == \"pass\") or (play_type == \"run\")').dropna()\n",
    "nfl_data.head()"
   ]
  },
  {
   "cell_type": "code",
   "execution_count": 7,
   "metadata": {},
   "outputs": [
    {
     "data": {
      "text/plain": [
       "(318347, 13)"
      ]
     },
     "execution_count": 7,
     "metadata": {},
     "output_type": "execute_result"
    }
   ],
   "source": [
    "nfl_data.shape"
   ]
  },
  {
   "cell_type": "code",
   "execution_count": 8,
   "metadata": {},
   "outputs": [],
   "source": [
    "# create dictionary with all of the passing dataframes\n",
    "years = list(range(2009,2019,1))\n",
    "\n",
    "d = {}\n",
    "for year in years:\n",
    "    df = pd.read_csv(f'Pass {year}.csv')\n",
    "    d[year] = df[['Player', 'Age', 'QBR', 'Y/G', 'Rate']]"
   ]
  },
  {
   "cell_type": "code",
   "execution_count": 9,
   "metadata": {},
   "outputs": [
    {
     "data": {
      "text/html": [
       "<div>\n",
       "<style scoped>\n",
       "    .dataframe tbody tr th:only-of-type {\n",
       "        vertical-align: middle;\n",
       "    }\n",
       "\n",
       "    .dataframe tbody tr th {\n",
       "        vertical-align: top;\n",
       "    }\n",
       "\n",
       "    .dataframe thead th {\n",
       "        text-align: right;\n",
       "    }\n",
       "</style>\n",
       "<table border=\"1\" class=\"dataframe\">\n",
       "  <thead>\n",
       "    <tr style=\"text-align: right;\">\n",
       "      <th></th>\n",
       "      <th>Player</th>\n",
       "      <th>Age</th>\n",
       "      <th>QBR</th>\n",
       "      <th>Y/G</th>\n",
       "      <th>Rate</th>\n",
       "    </tr>\n",
       "  </thead>\n",
       "  <tbody>\n",
       "    <tr>\n",
       "      <th>0</th>\n",
       "      <td>Matt Schaub*\\SchaMa00</td>\n",
       "      <td>28</td>\n",
       "      <td>73.8</td>\n",
       "      <td>298.1</td>\n",
       "      <td>98.6</td>\n",
       "    </tr>\n",
       "    <tr>\n",
       "      <th>1</th>\n",
       "      <td>Peyton Manning*+\\MannPe00</td>\n",
       "      <td>33</td>\n",
       "      <td>81.3</td>\n",
       "      <td>281.3</td>\n",
       "      <td>99.9</td>\n",
       "    </tr>\n",
       "    <tr>\n",
       "      <th>2</th>\n",
       "      <td>Tom Brady*\\BradTo00</td>\n",
       "      <td>32</td>\n",
       "      <td>73.2</td>\n",
       "      <td>274.9</td>\n",
       "      <td>96.2</td>\n",
       "    </tr>\n",
       "    <tr>\n",
       "      <th>3</th>\n",
       "      <td>Jay Cutler\\CutlJa00</td>\n",
       "      <td>26</td>\n",
       "      <td>50.3</td>\n",
       "      <td>229.1</td>\n",
       "      <td>76.8</td>\n",
       "    </tr>\n",
       "    <tr>\n",
       "      <th>4</th>\n",
       "      <td>Tony Romo*\\RomoTo00</td>\n",
       "      <td>29</td>\n",
       "      <td>64.5</td>\n",
       "      <td>280.2</td>\n",
       "      <td>97.6</td>\n",
       "    </tr>\n",
       "  </tbody>\n",
       "</table>\n",
       "</div>"
      ],
      "text/plain": [
       "                      Player  Age   QBR    Y/G  Rate\n",
       "0      Matt Schaub*\\SchaMa00   28  73.8  298.1  98.6\n",
       "1  Peyton Manning*+\\MannPe00   33  81.3  281.3  99.9\n",
       "2        Tom Brady*\\BradTo00   32  73.2  274.9  96.2\n",
       "3        Jay Cutler\\CutlJa00   26  50.3  229.1  76.8\n",
       "4        Tony Romo*\\RomoTo00   29  64.5  280.2  97.6"
      ]
     },
     "execution_count": 9,
     "metadata": {},
     "output_type": "execute_result"
    }
   ],
   "source": [
    "d[2009].head()"
   ]
  },
  {
   "cell_type": "code",
   "execution_count": 10,
   "metadata": {},
   "outputs": [],
   "source": [
    "def pass_data_cleaning(dic, lis):\n",
    "    for year in lis:\n",
    "        for i in range(len(dic[year]['Player'])):\n",
    "            # if there's a *, grab the name before that *\n",
    "            if dic[year]['Player'][i].count('*') >= 1:\n",
    "                number = dic[year]['Player'][i].find('*')\n",
    "                dic[year].at[i, 'Player'] = dic[year]['Player'][i][:number]\n",
    "            # if there's a \\, grab the name before that\n",
    "            else:\n",
    "                number = dic[year]['Player'][i].find('\\\\')\n",
    "                dic[year].at[i, 'Player'] = dic[year]['Player'][i][:number]\n",
    "\n",
    "        # make it so that the name matches the main dataframe, with just one letter for the first name\n",
    "        for k in range(len(dic[year]['Player'])):\n",
    "            dic[year].at[k, 'Player'] = list(dic[year]['Player'][k].split(' ')[0])[0] + ' ' + dic[year]['Player'][k].split(' ')[1]\n",
    "            \n",
    "        dic[year]['Year'] = year\n",
    "            \n",
    "    return dic"
   ]
  },
  {
   "cell_type": "code",
   "execution_count": 11,
   "metadata": {},
   "outputs": [
    {
     "name": "stderr",
     "output_type": "stream",
     "text": [
      "\n",
      "A value is trying to be set on a copy of a slice from a DataFrame.\n",
      "Try using .loc[row_indexer,col_indexer] = value instead\n",
      "\n",
      "See the caveats in the documentation: https://pandas.pydata.org/pandas-docs/stable/user_guide/indexing.html#returning-a-view-versus-a-copy\n"
     ]
    }
   ],
   "source": [
    "# pass the dictionary we created two cells above into the cleaning function\n",
    "cleaned_dict = pass_data_cleaning(d, years)"
   ]
  },
  {
   "cell_type": "code",
   "execution_count": 12,
   "metadata": {},
   "outputs": [
    {
     "data": {
      "text/html": [
       "<div>\n",
       "<style scoped>\n",
       "    .dataframe tbody tr th:only-of-type {\n",
       "        vertical-align: middle;\n",
       "    }\n",
       "\n",
       "    .dataframe tbody tr th {\n",
       "        vertical-align: top;\n",
       "    }\n",
       "\n",
       "    .dataframe thead th {\n",
       "        text-align: right;\n",
       "    }\n",
       "</style>\n",
       "<table border=\"1\" class=\"dataframe\">\n",
       "  <thead>\n",
       "    <tr style=\"text-align: right;\">\n",
       "      <th></th>\n",
       "      <th>Player</th>\n",
       "      <th>Age</th>\n",
       "      <th>QBR</th>\n",
       "      <th>Y/G</th>\n",
       "      <th>Rate</th>\n",
       "      <th>Year</th>\n",
       "    </tr>\n",
       "  </thead>\n",
       "  <tbody>\n",
       "    <tr>\n",
       "      <th>0</th>\n",
       "      <td>M Schaub</td>\n",
       "      <td>28</td>\n",
       "      <td>73.8</td>\n",
       "      <td>298.1</td>\n",
       "      <td>98.6</td>\n",
       "      <td>2009</td>\n",
       "    </tr>\n",
       "    <tr>\n",
       "      <th>1</th>\n",
       "      <td>P Manning</td>\n",
       "      <td>33</td>\n",
       "      <td>81.3</td>\n",
       "      <td>281.3</td>\n",
       "      <td>99.9</td>\n",
       "      <td>2009</td>\n",
       "    </tr>\n",
       "    <tr>\n",
       "      <th>2</th>\n",
       "      <td>T Brady</td>\n",
       "      <td>32</td>\n",
       "      <td>73.2</td>\n",
       "      <td>274.9</td>\n",
       "      <td>96.2</td>\n",
       "      <td>2009</td>\n",
       "    </tr>\n",
       "    <tr>\n",
       "      <th>3</th>\n",
       "      <td>J Cutler</td>\n",
       "      <td>26</td>\n",
       "      <td>50.3</td>\n",
       "      <td>229.1</td>\n",
       "      <td>76.8</td>\n",
       "      <td>2009</td>\n",
       "    </tr>\n",
       "    <tr>\n",
       "      <th>4</th>\n",
       "      <td>T Romo</td>\n",
       "      <td>29</td>\n",
       "      <td>64.5</td>\n",
       "      <td>280.2</td>\n",
       "      <td>97.6</td>\n",
       "      <td>2009</td>\n",
       "    </tr>\n",
       "  </tbody>\n",
       "</table>\n",
       "</div>"
      ],
      "text/plain": [
       "      Player  Age   QBR    Y/G  Rate  Year\n",
       "0   M Schaub   28  73.8  298.1  98.6  2009\n",
       "1  P Manning   33  81.3  281.3  99.9  2009\n",
       "2    T Brady   32  73.2  274.9  96.2  2009\n",
       "3   J Cutler   26  50.3  229.1  76.8  2009\n",
       "4     T Romo   29  64.5  280.2  97.6  2009"
      ]
     },
     "execution_count": 12,
     "metadata": {},
     "output_type": "execute_result"
    }
   ],
   "source": [
    "cleaned_dict[2009].head()"
   ]
  },
  {
   "cell_type": "code",
   "execution_count": 13,
   "metadata": {},
   "outputs": [],
   "source": [
    "from bs4 import BeautifulSoup\n",
    "import selenium\n",
    "from selenium import webdriver"
   ]
  },
  {
   "cell_type": "code",
   "execution_count": 14,
   "metadata": {},
   "outputs": [],
   "source": [
    "def rush_data_forming_and_cleaning(lis):\n",
    "    d_2 = {}\n",
    "    for year in lis:\n",
    "        driver = webdriver.Firefox('./')\n",
    "        driver.get(f'https://www.footballdb.com/statistics/nfl/player-stats/rushing/{year}/regular-season')\n",
    "\n",
    "        source = driver.page_source\n",
    "        soup = BeautifulSoup(source)\n",
    "\n",
    "        table = soup.find('table', {'class':'statistics scrollable'})\n",
    "\n",
    "        # gather the tags that containt the name of the running backs\n",
    "        data1 = table.find_all('span', {'class':'hidden-xs'})\n",
    "\n",
    "        # create a list of running backs; append what is inside of the 'a' tag\n",
    "        running_backs = []\n",
    "        for data in data1:\n",
    "            name = (data.find('a'))\n",
    "            running_backs.append(name.text)\n",
    "\n",
    "        # gather the tags that contain the avg yards and yards per game of the running backs\n",
    "        # create respective lists for those datapoints\n",
    "        data2 = table.find_all('td')\n",
    "        average_yds = data2[5::10]\n",
    "        for i in range(len(average_yds)):\n",
    "            average_yds[i] = average_yds[i].text\n",
    "        average_yds = [float(i) for i in average_yds]\n",
    "\n",
    "        ypg = data2[6::10]\n",
    "        for i in range(len(ypg)):\n",
    "            ypg[i] = ypg[i].text\n",
    "        ypg = [float(i) for i in ypg]\n",
    "\n",
    "        # form the running back dataframe for these lists\n",
    "        RB_df = pd.DataFrame(\n",
    "            {'Player': running_backs,\n",
    "             'AVG': average_yds,\n",
    "             'YPG': ypg,\n",
    "             'Year': year\n",
    "            })\n",
    "\n",
    "        for k in range(len(RB_df['Player'])):\n",
    "            RB_df.at[k, 'Player'] = RB_df['Player'][k].split(' ')[0][0] + ' ' + RB_df['Player'][k].split(' ')[1]\n",
    "            \n",
    "        d_2[year] = RB_df\n",
    "        \n",
    "    return d_2"
   ]
  },
  {
   "cell_type": "code",
   "execution_count": 15,
   "metadata": {},
   "outputs": [],
   "source": [
    "d_2 = rush_data_forming_and_cleaning(years)"
   ]
  },
  {
   "cell_type": "code",
   "execution_count": 16,
   "metadata": {},
   "outputs": [
    {
     "data": {
      "text/html": [
       "<div>\n",
       "<style scoped>\n",
       "    .dataframe tbody tr th:only-of-type {\n",
       "        vertical-align: middle;\n",
       "    }\n",
       "\n",
       "    .dataframe tbody tr th {\n",
       "        vertical-align: top;\n",
       "    }\n",
       "\n",
       "    .dataframe thead th {\n",
       "        text-align: right;\n",
       "    }\n",
       "</style>\n",
       "<table border=\"1\" class=\"dataframe\">\n",
       "  <thead>\n",
       "    <tr style=\"text-align: right;\">\n",
       "      <th></th>\n",
       "      <th>Player</th>\n",
       "      <th>AVG</th>\n",
       "      <th>YPG</th>\n",
       "      <th>Year</th>\n",
       "    </tr>\n",
       "  </thead>\n",
       "  <tbody>\n",
       "    <tr>\n",
       "      <th>0</th>\n",
       "      <td>C Johnson</td>\n",
       "      <td>5.60</td>\n",
       "      <td>125.4</td>\n",
       "      <td>2009</td>\n",
       "    </tr>\n",
       "    <tr>\n",
       "      <th>1</th>\n",
       "      <td>S Jackson</td>\n",
       "      <td>4.37</td>\n",
       "      <td>94.4</td>\n",
       "      <td>2009</td>\n",
       "    </tr>\n",
       "    <tr>\n",
       "      <th>2</th>\n",
       "      <td>T Jones</td>\n",
       "      <td>4.24</td>\n",
       "      <td>87.6</td>\n",
       "      <td>2009</td>\n",
       "    </tr>\n",
       "    <tr>\n",
       "      <th>3</th>\n",
       "      <td>M Jones-Drew</td>\n",
       "      <td>4.46</td>\n",
       "      <td>86.9</td>\n",
       "      <td>2009</td>\n",
       "    </tr>\n",
       "    <tr>\n",
       "      <th>4</th>\n",
       "      <td>A Peterson</td>\n",
       "      <td>4.40</td>\n",
       "      <td>86.4</td>\n",
       "      <td>2009</td>\n",
       "    </tr>\n",
       "  </tbody>\n",
       "</table>\n",
       "</div>"
      ],
      "text/plain": [
       "         Player   AVG    YPG  Year\n",
       "0     C Johnson  5.60  125.4  2009\n",
       "1     S Jackson  4.37   94.4  2009\n",
       "2       T Jones  4.24   87.6  2009\n",
       "3  M Jones-Drew  4.46   86.9  2009\n",
       "4    A Peterson  4.40   86.4  2009"
      ]
     },
     "execution_count": 16,
     "metadata": {},
     "output_type": "execute_result"
    }
   ],
   "source": [
    "d_2[2009].head()"
   ]
  },
  {
   "cell_type": "code",
   "execution_count": 17,
   "metadata": {},
   "outputs": [],
   "source": [
    "# form the quarterback and running back dataframes into list of dataframes\n",
    "qb_list = [d[i] for i in years]\n",
    "rb_list = [d_2[i] for i in years]"
   ]
  },
  {
   "cell_type": "code",
   "execution_count": 18,
   "metadata": {},
   "outputs": [],
   "source": [
    "# concatenate the lists into separate dataframes\n",
    "qb_df = pd.concat(qb_list)\n",
    "rb_df = pd.concat(rb_list)"
   ]
  },
  {
   "cell_type": "code",
   "execution_count": 19,
   "metadata": {},
   "outputs": [],
   "source": [
    "qb_df['Year'] = qb_df['Year'].astype(str)\n",
    "rb_df['Year'] = rb_df['Year'].astype(str)"
   ]
  },
  {
   "cell_type": "code",
   "execution_count": 20,
   "metadata": {},
   "outputs": [
    {
     "data": {
      "text/html": [
       "<div>\n",
       "<style scoped>\n",
       "    .dataframe tbody tr th:only-of-type {\n",
       "        vertical-align: middle;\n",
       "    }\n",
       "\n",
       "    .dataframe tbody tr th {\n",
       "        vertical-align: top;\n",
       "    }\n",
       "\n",
       "    .dataframe thead th {\n",
       "        text-align: right;\n",
       "    }\n",
       "</style>\n",
       "<table border=\"1\" class=\"dataframe\">\n",
       "  <thead>\n",
       "    <tr style=\"text-align: right;\">\n",
       "      <th></th>\n",
       "      <th>game_seconds_remaining</th>\n",
       "      <th>ydstogo</th>\n",
       "      <th>posteam_score</th>\n",
       "      <th>defteam_score</th>\n",
       "      <th>down</th>\n",
       "      <th>shotgun</th>\n",
       "      <th>play_type</th>\n",
       "      <th>qb_kneel</th>\n",
       "      <th>qb_spike</th>\n",
       "      <th>yards_gained</th>\n",
       "      <th>yardline_100</th>\n",
       "      <th>Player</th>\n",
       "      <th>Year</th>\n",
       "      <th>Age</th>\n",
       "      <th>QBR</th>\n",
       "      <th>Y/G</th>\n",
       "      <th>Rate</th>\n",
       "      <th>AVG</th>\n",
       "      <th>YPG</th>\n",
       "    </tr>\n",
       "  </thead>\n",
       "  <tbody>\n",
       "    <tr>\n",
       "      <th>0</th>\n",
       "      <td>3593.0</td>\n",
       "      <td>10</td>\n",
       "      <td>0.0</td>\n",
       "      <td>0.0</td>\n",
       "      <td>1.0</td>\n",
       "      <td>0</td>\n",
       "      <td>pass</td>\n",
       "      <td>0</td>\n",
       "      <td>0</td>\n",
       "      <td>1.0</td>\n",
       "      <td>58.0</td>\n",
       "      <td>B Roethlisberger</td>\n",
       "      <td>2009</td>\n",
       "      <td>27.0</td>\n",
       "      <td>69.0</td>\n",
       "      <td>288.5</td>\n",
       "      <td>100.5</td>\n",
       "      <td>2.05</td>\n",
       "      <td>5.5</td>\n",
       "    </tr>\n",
       "    <tr>\n",
       "      <th>1</th>\n",
       "      <td>3556.0</td>\n",
       "      <td>5</td>\n",
       "      <td>0.0</td>\n",
       "      <td>0.0</td>\n",
       "      <td>2.0</td>\n",
       "      <td>0</td>\n",
       "      <td>run</td>\n",
       "      <td>0</td>\n",
       "      <td>0</td>\n",
       "      <td>0.0</td>\n",
       "      <td>53.0</td>\n",
       "      <td>W Parker</td>\n",
       "      <td>2009</td>\n",
       "      <td>NaN</td>\n",
       "      <td>NaN</td>\n",
       "      <td>NaN</td>\n",
       "      <td>NaN</td>\n",
       "      <td>3.97</td>\n",
       "      <td>27.8</td>\n",
       "    </tr>\n",
       "    <tr>\n",
       "      <th>2</th>\n",
       "      <td>3515.0</td>\n",
       "      <td>8</td>\n",
       "      <td>0.0</td>\n",
       "      <td>0.0</td>\n",
       "      <td>3.0</td>\n",
       "      <td>1</td>\n",
       "      <td>pass</td>\n",
       "      <td>0</td>\n",
       "      <td>0</td>\n",
       "      <td>0.0</td>\n",
       "      <td>56.0</td>\n",
       "      <td>B Roethlisberger</td>\n",
       "      <td>2009</td>\n",
       "      <td>27.0</td>\n",
       "      <td>69.0</td>\n",
       "      <td>288.5</td>\n",
       "      <td>100.5</td>\n",
       "      <td>2.05</td>\n",
       "      <td>5.5</td>\n",
       "    </tr>\n",
       "    <tr>\n",
       "      <th>3</th>\n",
       "      <td>3496.0</td>\n",
       "      <td>10</td>\n",
       "      <td>0.0</td>\n",
       "      <td>0.0</td>\n",
       "      <td>1.0</td>\n",
       "      <td>0</td>\n",
       "      <td>run</td>\n",
       "      <td>0</td>\n",
       "      <td>0</td>\n",
       "      <td>0.0</td>\n",
       "      <td>98.0</td>\n",
       "      <td>C Johnson</td>\n",
       "      <td>2009</td>\n",
       "      <td>24.0</td>\n",
       "      <td>0.1</td>\n",
       "      <td>0.0</td>\n",
       "      <td>39.6</td>\n",
       "      <td>5.60</td>\n",
       "      <td>125.4</td>\n",
       "    </tr>\n",
       "    <tr>\n",
       "      <th>4</th>\n",
       "      <td>3496.0</td>\n",
       "      <td>10</td>\n",
       "      <td>0.0</td>\n",
       "      <td>0.0</td>\n",
       "      <td>1.0</td>\n",
       "      <td>0</td>\n",
       "      <td>run</td>\n",
       "      <td>0</td>\n",
       "      <td>0</td>\n",
       "      <td>0.0</td>\n",
       "      <td>98.0</td>\n",
       "      <td>C Johnson</td>\n",
       "      <td>2009</td>\n",
       "      <td>24.0</td>\n",
       "      <td>0.1</td>\n",
       "      <td>0.0</td>\n",
       "      <td>39.6</td>\n",
       "      <td>10.43</td>\n",
       "      <td>5.2</td>\n",
       "    </tr>\n",
       "  </tbody>\n",
       "</table>\n",
       "</div>"
      ],
      "text/plain": [
       "   game_seconds_remaining  ydstogo  posteam_score  defteam_score  down  \\\n",
       "0                  3593.0       10            0.0            0.0   1.0   \n",
       "1                  3556.0        5            0.0            0.0   2.0   \n",
       "2                  3515.0        8            0.0            0.0   3.0   \n",
       "3                  3496.0       10            0.0            0.0   1.0   \n",
       "4                  3496.0       10            0.0            0.0   1.0   \n",
       "\n",
       "   shotgun play_type  qb_kneel  qb_spike  yards_gained  yardline_100  \\\n",
       "0        0      pass         0         0           1.0          58.0   \n",
       "1        0       run         0         0           0.0          53.0   \n",
       "2        1      pass         0         0           0.0          56.0   \n",
       "3        0       run         0         0           0.0          98.0   \n",
       "4        0       run         0         0           0.0          98.0   \n",
       "\n",
       "             Player  Year   Age   QBR    Y/G   Rate    AVG    YPG  \n",
       "0  B Roethlisberger  2009  27.0  69.0  288.5  100.5   2.05    5.5  \n",
       "1          W Parker  2009   NaN   NaN    NaN    NaN   3.97   27.8  \n",
       "2  B Roethlisberger  2009  27.0  69.0  288.5  100.5   2.05    5.5  \n",
       "3         C Johnson  2009  24.0   0.1    0.0   39.6   5.60  125.4  \n",
       "4         C Johnson  2009  24.0   0.1    0.0   39.6  10.43    5.2  "
      ]
     },
     "execution_count": 20,
     "metadata": {},
     "output_type": "execute_result"
    }
   ],
   "source": [
    "nfl_data = nfl_data.merge(qb_df, on=['Player', 'Year'], how='left').merge(rb_df, on=['Player', 'Year'], how='left')\n",
    "\n",
    "nfl_data.head()"
   ]
  },
  {
   "cell_type": "markdown",
   "metadata": {},
   "source": [
    "PREDICTING \"YARDS_GAINED\" (0 = below 3, 1 = between 3 and 6, 2 = between 6 and 10, 3 = above 10) GIVEN:\n",
    "- game_seconds_remaining (from 3600 downwards)\n",
    "- ydstogo (until a first down)\n",
    "- down (the number, 1 to 4)\n",
    "- shotgun (binary, yes or no)\n",
    "- play_type (run or pass)\n",
    "- qb_kneel or qb_spike (binary, yes or no)\n",
    "- posteam_score and defteam_score (possessing and defensive)\n",
    "- rushing average yards per game and per carry (FOR RUSHING ONLY)\n",
    "- quarterback age, yards/game, QBR, and rating (FOR PASSING ONLY)"
   ]
  },
  {
   "cell_type": "code",
   "execution_count": 21,
   "metadata": {},
   "outputs": [
    {
     "data": {
      "text/html": [
       "<div>\n",
       "<style scoped>\n",
       "    .dataframe tbody tr th:only-of-type {\n",
       "        vertical-align: middle;\n",
       "    }\n",
       "\n",
       "    .dataframe tbody tr th {\n",
       "        vertical-align: top;\n",
       "    }\n",
       "\n",
       "    .dataframe thead th {\n",
       "        text-align: right;\n",
       "    }\n",
       "</style>\n",
       "<table border=\"1\" class=\"dataframe\">\n",
       "  <thead>\n",
       "    <tr style=\"text-align: right;\">\n",
       "      <th></th>\n",
       "      <th>game_seconds_remaining</th>\n",
       "      <th>yardline_100</th>\n",
       "      <th>ydstogo</th>\n",
       "      <th>posteam_score</th>\n",
       "      <th>defteam_score</th>\n",
       "      <th>Age</th>\n",
       "      <th>QBR</th>\n",
       "      <th>Y/G</th>\n",
       "      <th>Rate</th>\n",
       "      <th>down</th>\n",
       "      <th>shotgun</th>\n",
       "      <th>play_type</th>\n",
       "      <th>qb_kneel</th>\n",
       "      <th>qb_spike</th>\n",
       "      <th>yards_gained</th>\n",
       "    </tr>\n",
       "  </thead>\n",
       "  <tbody>\n",
       "    <tr>\n",
       "      <th>0</th>\n",
       "      <td>3593.0</td>\n",
       "      <td>58.0</td>\n",
       "      <td>10</td>\n",
       "      <td>0.0</td>\n",
       "      <td>0.0</td>\n",
       "      <td>27.0</td>\n",
       "      <td>69.0</td>\n",
       "      <td>288.5</td>\n",
       "      <td>100.5</td>\n",
       "      <td>1.0</td>\n",
       "      <td>0</td>\n",
       "      <td>pass</td>\n",
       "      <td>0</td>\n",
       "      <td>0</td>\n",
       "      <td>1.0</td>\n",
       "    </tr>\n",
       "    <tr>\n",
       "      <th>2</th>\n",
       "      <td>3515.0</td>\n",
       "      <td>56.0</td>\n",
       "      <td>8</td>\n",
       "      <td>0.0</td>\n",
       "      <td>0.0</td>\n",
       "      <td>27.0</td>\n",
       "      <td>69.0</td>\n",
       "      <td>288.5</td>\n",
       "      <td>100.5</td>\n",
       "      <td>3.0</td>\n",
       "      <td>1</td>\n",
       "      <td>pass</td>\n",
       "      <td>0</td>\n",
       "      <td>0</td>\n",
       "      <td>0.0</td>\n",
       "    </tr>\n",
       "    <tr>\n",
       "      <th>6</th>\n",
       "      <td>3460.0</td>\n",
       "      <td>98.0</td>\n",
       "      <td>10</td>\n",
       "      <td>0.0</td>\n",
       "      <td>0.0</td>\n",
       "      <td>37.0</td>\n",
       "      <td>41.1</td>\n",
       "      <td>175.0</td>\n",
       "      <td>65.5</td>\n",
       "      <td>2.0</td>\n",
       "      <td>0</td>\n",
       "      <td>pass</td>\n",
       "      <td>0</td>\n",
       "      <td>0</td>\n",
       "      <td>1.0</td>\n",
       "    </tr>\n",
       "    <tr>\n",
       "      <th>10</th>\n",
       "      <td>3384.0</td>\n",
       "      <td>43.0</td>\n",
       "      <td>10</td>\n",
       "      <td>0.0</td>\n",
       "      <td>0.0</td>\n",
       "      <td>27.0</td>\n",
       "      <td>69.0</td>\n",
       "      <td>288.5</td>\n",
       "      <td>100.5</td>\n",
       "      <td>1.0</td>\n",
       "      <td>0</td>\n",
       "      <td>pass</td>\n",
       "      <td>0</td>\n",
       "      <td>0</td>\n",
       "      <td>1.0</td>\n",
       "    </tr>\n",
       "    <tr>\n",
       "      <th>11</th>\n",
       "      <td>3348.0</td>\n",
       "      <td>40.0</td>\n",
       "      <td>7</td>\n",
       "      <td>0.0</td>\n",
       "      <td>0.0</td>\n",
       "      <td>27.0</td>\n",
       "      <td>69.0</td>\n",
       "      <td>288.5</td>\n",
       "      <td>100.5</td>\n",
       "      <td>2.0</td>\n",
       "      <td>0</td>\n",
       "      <td>pass</td>\n",
       "      <td>0</td>\n",
       "      <td>0</td>\n",
       "      <td>3.0</td>\n",
       "    </tr>\n",
       "  </tbody>\n",
       "</table>\n",
       "</div>"
      ],
      "text/plain": [
       "    game_seconds_remaining  yardline_100  ydstogo  posteam_score  \\\n",
       "0                   3593.0          58.0       10            0.0   \n",
       "2                   3515.0          56.0        8            0.0   \n",
       "6                   3460.0          98.0       10            0.0   \n",
       "10                  3384.0          43.0       10            0.0   \n",
       "11                  3348.0          40.0        7            0.0   \n",
       "\n",
       "    defteam_score   Age   QBR    Y/G   Rate  down  shotgun play_type  \\\n",
       "0             0.0  27.0  69.0  288.5  100.5   1.0        0      pass   \n",
       "2             0.0  27.0  69.0  288.5  100.5   3.0        1      pass   \n",
       "6             0.0  37.0  41.1  175.0   65.5   2.0        0      pass   \n",
       "10            0.0  27.0  69.0  288.5  100.5   1.0        0      pass   \n",
       "11            0.0  27.0  69.0  288.5  100.5   2.0        0      pass   \n",
       "\n",
       "    qb_kneel  qb_spike  yards_gained  \n",
       "0          0         0           1.0  \n",
       "2          0         0           0.0  \n",
       "6          0         0           1.0  \n",
       "10         0         0           1.0  \n",
       "11         0         0           3.0  "
      ]
     },
     "execution_count": 21,
     "metadata": {},
     "output_type": "execute_result"
    }
   ],
   "source": [
    "nfl_pass_data = nfl_data[[\n",
    "               'game_seconds_remaining',\n",
    "               'yardline_100',         \n",
    "               'ydstogo',\n",
    "               'posteam_score',\n",
    "               'defteam_score',\n",
    "               'Age',\n",
    "               'QBR',\n",
    "               'Y/G',\n",
    "               'Rate',\n",
    "               'down',\n",
    "               'shotgun',\n",
    "               'play_type',\n",
    "               'qb_kneel',\n",
    "               'qb_spike',\n",
    "               'yards_gained']].query('(play_type == \"pass\")').dropna()\n",
    "nfl_pass_data.head()"
   ]
  },
  {
   "cell_type": "code",
   "execution_count": 22,
   "metadata": {},
   "outputs": [
    {
     "data": {
      "text/html": [
       "<div>\n",
       "<style scoped>\n",
       "    .dataframe tbody tr th:only-of-type {\n",
       "        vertical-align: middle;\n",
       "    }\n",
       "\n",
       "    .dataframe tbody tr th {\n",
       "        vertical-align: top;\n",
       "    }\n",
       "\n",
       "    .dataframe thead th {\n",
       "        text-align: right;\n",
       "    }\n",
       "</style>\n",
       "<table border=\"1\" class=\"dataframe\">\n",
       "  <thead>\n",
       "    <tr style=\"text-align: right;\">\n",
       "      <th></th>\n",
       "      <th>game_seconds_remaining</th>\n",
       "      <th>yardline_100</th>\n",
       "      <th>ydstogo</th>\n",
       "      <th>posteam_score</th>\n",
       "      <th>defteam_score</th>\n",
       "      <th>AVG</th>\n",
       "      <th>YPG</th>\n",
       "      <th>down</th>\n",
       "      <th>shotgun</th>\n",
       "      <th>play_type</th>\n",
       "      <th>qb_kneel</th>\n",
       "      <th>qb_spike</th>\n",
       "      <th>yards_gained</th>\n",
       "    </tr>\n",
       "  </thead>\n",
       "  <tbody>\n",
       "    <tr>\n",
       "      <th>1</th>\n",
       "      <td>3556.0</td>\n",
       "      <td>53.0</td>\n",
       "      <td>5</td>\n",
       "      <td>0.0</td>\n",
       "      <td>0.0</td>\n",
       "      <td>3.97</td>\n",
       "      <td>27.8</td>\n",
       "      <td>2.0</td>\n",
       "      <td>0</td>\n",
       "      <td>run</td>\n",
       "      <td>0</td>\n",
       "      <td>0</td>\n",
       "      <td>0.0</td>\n",
       "    </tr>\n",
       "    <tr>\n",
       "      <th>3</th>\n",
       "      <td>3496.0</td>\n",
       "      <td>98.0</td>\n",
       "      <td>10</td>\n",
       "      <td>0.0</td>\n",
       "      <td>0.0</td>\n",
       "      <td>5.60</td>\n",
       "      <td>125.4</td>\n",
       "      <td>1.0</td>\n",
       "      <td>0</td>\n",
       "      <td>run</td>\n",
       "      <td>0</td>\n",
       "      <td>0</td>\n",
       "      <td>0.0</td>\n",
       "    </tr>\n",
       "    <tr>\n",
       "      <th>4</th>\n",
       "      <td>3496.0</td>\n",
       "      <td>98.0</td>\n",
       "      <td>10</td>\n",
       "      <td>0.0</td>\n",
       "      <td>0.0</td>\n",
       "      <td>10.43</td>\n",
       "      <td>5.2</td>\n",
       "      <td>1.0</td>\n",
       "      <td>0</td>\n",
       "      <td>run</td>\n",
       "      <td>0</td>\n",
       "      <td>0</td>\n",
       "      <td>0.0</td>\n",
       "    </tr>\n",
       "    <tr>\n",
       "      <th>5</th>\n",
       "      <td>3496.0</td>\n",
       "      <td>98.0</td>\n",
       "      <td>10</td>\n",
       "      <td>0.0</td>\n",
       "      <td>0.0</td>\n",
       "      <td>10.67</td>\n",
       "      <td>2.0</td>\n",
       "      <td>1.0</td>\n",
       "      <td>0</td>\n",
       "      <td>run</td>\n",
       "      <td>0</td>\n",
       "      <td>0</td>\n",
       "      <td>0.0</td>\n",
       "    </tr>\n",
       "    <tr>\n",
       "      <th>7</th>\n",
       "      <td>3431.0</td>\n",
       "      <td>94.0</td>\n",
       "      <td>6</td>\n",
       "      <td>0.0</td>\n",
       "      <td>0.0</td>\n",
       "      <td>5.60</td>\n",
       "      <td>125.4</td>\n",
       "      <td>3.0</td>\n",
       "      <td>1</td>\n",
       "      <td>run</td>\n",
       "      <td>0</td>\n",
       "      <td>0</td>\n",
       "      <td>0.0</td>\n",
       "    </tr>\n",
       "  </tbody>\n",
       "</table>\n",
       "</div>"
      ],
      "text/plain": [
       "   game_seconds_remaining  yardline_100  ydstogo  posteam_score  \\\n",
       "1                  3556.0          53.0        5            0.0   \n",
       "3                  3496.0          98.0       10            0.0   \n",
       "4                  3496.0          98.0       10            0.0   \n",
       "5                  3496.0          98.0       10            0.0   \n",
       "7                  3431.0          94.0        6            0.0   \n",
       "\n",
       "   defteam_score    AVG    YPG  down  shotgun play_type  qb_kneel  qb_spike  \\\n",
       "1            0.0   3.97   27.8   2.0        0       run         0         0   \n",
       "3            0.0   5.60  125.4   1.0        0       run         0         0   \n",
       "4            0.0  10.43    5.2   1.0        0       run         0         0   \n",
       "5            0.0  10.67    2.0   1.0        0       run         0         0   \n",
       "7            0.0   5.60  125.4   3.0        1       run         0         0   \n",
       "\n",
       "   yards_gained  \n",
       "1           0.0  \n",
       "3           0.0  \n",
       "4           0.0  \n",
       "5           0.0  \n",
       "7           0.0  "
      ]
     },
     "execution_count": 22,
     "metadata": {},
     "output_type": "execute_result"
    }
   ],
   "source": [
    "nfl_rush_data = nfl_data[[\n",
    "               'game_seconds_remaining', \n",
    "               'yardline_100',\n",
    "               'ydstogo',\n",
    "               'posteam_score',\n",
    "               'defteam_score',\n",
    "               'AVG',\n",
    "               'YPG',\n",
    "               'down',\n",
    "               'shotgun',\n",
    "               'play_type',\n",
    "               'qb_kneel',\n",
    "               'qb_spike',\n",
    "               'yards_gained']].query('(play_type == \"run\")').dropna()\n",
    "\n",
    "nfl_rush_data.head()"
   ]
  },
  {
   "cell_type": "code",
   "execution_count": 23,
   "metadata": {},
   "outputs": [
    {
     "data": {
      "text/html": [
       "<div>\n",
       "<style scoped>\n",
       "    .dataframe tbody tr th:only-of-type {\n",
       "        vertical-align: middle;\n",
       "    }\n",
       "\n",
       "    .dataframe tbody tr th {\n",
       "        vertical-align: top;\n",
       "    }\n",
       "\n",
       "    .dataframe thead th {\n",
       "        text-align: right;\n",
       "    }\n",
       "</style>\n",
       "<table border=\"1\" class=\"dataframe\">\n",
       "  <thead>\n",
       "    <tr style=\"text-align: right;\">\n",
       "      <th></th>\n",
       "      <th>game_seconds_remaining</th>\n",
       "      <th>yardline_100</th>\n",
       "      <th>ydstogo</th>\n",
       "      <th>posteam_score</th>\n",
       "      <th>defteam_score</th>\n",
       "      <th>Age</th>\n",
       "      <th>QBR</th>\n",
       "      <th>Y/G</th>\n",
       "      <th>Rate</th>\n",
       "      <th>down</th>\n",
       "      <th>shotgun</th>\n",
       "      <th>play_type</th>\n",
       "      <th>qb_kneel</th>\n",
       "      <th>qb_spike</th>\n",
       "      <th>yards_gained</th>\n",
       "    </tr>\n",
       "  </thead>\n",
       "  <tbody>\n",
       "    <tr>\n",
       "      <th>174565</th>\n",
       "      <td>2278.0</td>\n",
       "      <td>70.0</td>\n",
       "      <td>13</td>\n",
       "      <td>14.0</td>\n",
       "      <td>7.0</td>\n",
       "      <td>33.0</td>\n",
       "      <td>62.5</td>\n",
       "      <td>275.6</td>\n",
       "      <td>92.1</td>\n",
       "      <td>2.0</td>\n",
       "      <td>1</td>\n",
       "      <td>pass</td>\n",
       "      <td>0</td>\n",
       "      <td>0</td>\n",
       "      <td>1.0</td>\n",
       "    </tr>\n",
       "    <tr>\n",
       "      <th>56744</th>\n",
       "      <td>279.0</td>\n",
       "      <td>77.0</td>\n",
       "      <td>7</td>\n",
       "      <td>36.0</td>\n",
       "      <td>26.0</td>\n",
       "      <td>23.0</td>\n",
       "      <td>47.0</td>\n",
       "      <td>219.5</td>\n",
       "      <td>76.5</td>\n",
       "      <td>3.0</td>\n",
       "      <td>1</td>\n",
       "      <td>pass</td>\n",
       "      <td>0</td>\n",
       "      <td>0</td>\n",
       "      <td>0.0</td>\n",
       "    </tr>\n",
       "    <tr>\n",
       "      <th>277993</th>\n",
       "      <td>377.0</td>\n",
       "      <td>16.0</td>\n",
       "      <td>5</td>\n",
       "      <td>10.0</td>\n",
       "      <td>27.0</td>\n",
       "      <td>29.0</td>\n",
       "      <td>65.3</td>\n",
       "      <td>277.9</td>\n",
       "      <td>99.3</td>\n",
       "      <td>2.0</td>\n",
       "      <td>1</td>\n",
       "      <td>pass</td>\n",
       "      <td>0</td>\n",
       "      <td>0</td>\n",
       "      <td>3.0</td>\n",
       "    </tr>\n",
       "    <tr>\n",
       "      <th>317709</th>\n",
       "      <td>3004.0</td>\n",
       "      <td>95.0</td>\n",
       "      <td>10</td>\n",
       "      <td>0.0</td>\n",
       "      <td>0.0</td>\n",
       "      <td>21.0</td>\n",
       "      <td>26.6</td>\n",
       "      <td>162.7</td>\n",
       "      <td>66.7</td>\n",
       "      <td>1.0</td>\n",
       "      <td>0</td>\n",
       "      <td>pass</td>\n",
       "      <td>0</td>\n",
       "      <td>0</td>\n",
       "      <td>0.0</td>\n",
       "    </tr>\n",
       "    <tr>\n",
       "      <th>328511</th>\n",
       "      <td>1831.0</td>\n",
       "      <td>37.0</td>\n",
       "      <td>6</td>\n",
       "      <td>0.0</td>\n",
       "      <td>20.0</td>\n",
       "      <td>23.0</td>\n",
       "      <td>56.2</td>\n",
       "      <td>284.6</td>\n",
       "      <td>90.8</td>\n",
       "      <td>2.0</td>\n",
       "      <td>1</td>\n",
       "      <td>pass</td>\n",
       "      <td>0</td>\n",
       "      <td>0</td>\n",
       "      <td>2.0</td>\n",
       "    </tr>\n",
       "  </tbody>\n",
       "</table>\n",
       "</div>"
      ],
      "text/plain": [
       "        game_seconds_remaining  yardline_100  ydstogo  posteam_score  \\\n",
       "174565                  2278.0          70.0       13           14.0   \n",
       "56744                    279.0          77.0        7           36.0   \n",
       "277993                   377.0          16.0        5           10.0   \n",
       "317709                  3004.0          95.0       10            0.0   \n",
       "328511                  1831.0          37.0        6            0.0   \n",
       "\n",
       "        defteam_score   Age   QBR    Y/G  Rate  down  shotgun play_type  \\\n",
       "174565            7.0  33.0  62.5  275.6  92.1   2.0        1      pass   \n",
       "56744            26.0  23.0  47.0  219.5  76.5   3.0        1      pass   \n",
       "277993           27.0  29.0  65.3  277.9  99.3   2.0        1      pass   \n",
       "317709            0.0  21.0  26.6  162.7  66.7   1.0        0      pass   \n",
       "328511           20.0  23.0  56.2  284.6  90.8   2.0        1      pass   \n",
       "\n",
       "        qb_kneel  qb_spike  yards_gained  \n",
       "174565         0         0           1.0  \n",
       "56744          0         0           0.0  \n",
       "277993         0         0           3.0  \n",
       "317709         0         0           0.0  \n",
       "328511         0         0           2.0  "
      ]
     },
     "execution_count": 23,
     "metadata": {},
     "output_type": "execute_result"
    }
   ],
   "source": [
    "# generate a seed; make results reproducable\n",
    "np.random.seed(896)\n",
    "\n",
    "NFL_pass = shuffle(nfl_pass_data)\n",
    "NFL_pass.head()"
   ]
  },
  {
   "cell_type": "code",
   "execution_count": 24,
   "metadata": {},
   "outputs": [
    {
     "data": {
      "text/html": [
       "<div>\n",
       "<style scoped>\n",
       "    .dataframe tbody tr th:only-of-type {\n",
       "        vertical-align: middle;\n",
       "    }\n",
       "\n",
       "    .dataframe tbody tr th {\n",
       "        vertical-align: top;\n",
       "    }\n",
       "\n",
       "    .dataframe thead th {\n",
       "        text-align: right;\n",
       "    }\n",
       "</style>\n",
       "<table border=\"1\" class=\"dataframe\">\n",
       "  <thead>\n",
       "    <tr style=\"text-align: right;\">\n",
       "      <th></th>\n",
       "      <th>game_seconds_remaining</th>\n",
       "      <th>yardline_100</th>\n",
       "      <th>ydstogo</th>\n",
       "      <th>posteam_score</th>\n",
       "      <th>defteam_score</th>\n",
       "      <th>AVG</th>\n",
       "      <th>YPG</th>\n",
       "      <th>down</th>\n",
       "      <th>shotgun</th>\n",
       "      <th>play_type</th>\n",
       "      <th>qb_kneel</th>\n",
       "      <th>qb_spike</th>\n",
       "      <th>yards_gained</th>\n",
       "    </tr>\n",
       "  </thead>\n",
       "  <tbody>\n",
       "    <tr>\n",
       "      <th>176362</th>\n",
       "      <td>352.0</td>\n",
       "      <td>50.0</td>\n",
       "      <td>7</td>\n",
       "      <td>41.0</td>\n",
       "      <td>10.0</td>\n",
       "      <td>3.92</td>\n",
       "      <td>20.8</td>\n",
       "      <td>2.0</td>\n",
       "      <td>0</td>\n",
       "      <td>run</td>\n",
       "      <td>0</td>\n",
       "      <td>0</td>\n",
       "      <td>0.0</td>\n",
       "    </tr>\n",
       "    <tr>\n",
       "      <th>106976</th>\n",
       "      <td>2852.0</td>\n",
       "      <td>70.0</td>\n",
       "      <td>10</td>\n",
       "      <td>0.0</td>\n",
       "      <td>7.0</td>\n",
       "      <td>3.80</td>\n",
       "      <td>43.7</td>\n",
       "      <td>1.0</td>\n",
       "      <td>0</td>\n",
       "      <td>run</td>\n",
       "      <td>0</td>\n",
       "      <td>0</td>\n",
       "      <td>1.0</td>\n",
       "    </tr>\n",
       "    <tr>\n",
       "      <th>268634</th>\n",
       "      <td>2479.0</td>\n",
       "      <td>85.0</td>\n",
       "      <td>5</td>\n",
       "      <td>17.0</td>\n",
       "      <td>0.0</td>\n",
       "      <td>4.43</td>\n",
       "      <td>47.9</td>\n",
       "      <td>2.0</td>\n",
       "      <td>1</td>\n",
       "      <td>run</td>\n",
       "      <td>0</td>\n",
       "      <td>0</td>\n",
       "      <td>0.0</td>\n",
       "    </tr>\n",
       "    <tr>\n",
       "      <th>6567</th>\n",
       "      <td>505.0</td>\n",
       "      <td>73.0</td>\n",
       "      <td>10</td>\n",
       "      <td>20.0</td>\n",
       "      <td>19.0</td>\n",
       "      <td>4.44</td>\n",
       "      <td>61.6</td>\n",
       "      <td>1.0</td>\n",
       "      <td>0</td>\n",
       "      <td>run</td>\n",
       "      <td>0</td>\n",
       "      <td>0</td>\n",
       "      <td>0.0</td>\n",
       "    </tr>\n",
       "    <tr>\n",
       "      <th>183987</th>\n",
       "      <td>2802.0</td>\n",
       "      <td>80.0</td>\n",
       "      <td>10</td>\n",
       "      <td>10.0</td>\n",
       "      <td>10.0</td>\n",
       "      <td>3.92</td>\n",
       "      <td>20.8</td>\n",
       "      <td>1.0</td>\n",
       "      <td>1</td>\n",
       "      <td>run</td>\n",
       "      <td>0</td>\n",
       "      <td>0</td>\n",
       "      <td>0.0</td>\n",
       "    </tr>\n",
       "  </tbody>\n",
       "</table>\n",
       "</div>"
      ],
      "text/plain": [
       "        game_seconds_remaining  yardline_100  ydstogo  posteam_score  \\\n",
       "176362                   352.0          50.0        7           41.0   \n",
       "106976                  2852.0          70.0       10            0.0   \n",
       "268634                  2479.0          85.0        5           17.0   \n",
       "6567                     505.0          73.0       10           20.0   \n",
       "183987                  2802.0          80.0       10           10.0   \n",
       "\n",
       "        defteam_score   AVG   YPG  down  shotgun play_type  qb_kneel  \\\n",
       "176362           10.0  3.92  20.8   2.0        0       run         0   \n",
       "106976            7.0  3.80  43.7   1.0        0       run         0   \n",
       "268634            0.0  4.43  47.9   2.0        1       run         0   \n",
       "6567             19.0  4.44  61.6   1.0        0       run         0   \n",
       "183987           10.0  3.92  20.8   1.0        1       run         0   \n",
       "\n",
       "        qb_spike  yards_gained  \n",
       "176362         0           0.0  \n",
       "106976         0           1.0  \n",
       "268634         0           0.0  \n",
       "6567           0           0.0  \n",
       "183987         0           0.0  "
      ]
     },
     "execution_count": 24,
     "metadata": {},
     "output_type": "execute_result"
    }
   ],
   "source": [
    "# generate a seed; make results reproducable\n",
    "np.random.seed(896)\n",
    "\n",
    "NFL_rush = shuffle(nfl_rush_data)\n",
    "NFL_rush.head()"
   ]
  },
  {
   "cell_type": "markdown",
   "metadata": {},
   "source": [
    "PASS DATA"
   ]
  },
  {
   "cell_type": "code",
   "execution_count": 25,
   "metadata": {},
   "outputs": [
    {
     "data": {
      "text/html": [
       "<div>\n",
       "<style scoped>\n",
       "    .dataframe tbody tr th:only-of-type {\n",
       "        vertical-align: middle;\n",
       "    }\n",
       "\n",
       "    .dataframe tbody tr th {\n",
       "        vertical-align: top;\n",
       "    }\n",
       "\n",
       "    .dataframe thead th {\n",
       "        text-align: right;\n",
       "    }\n",
       "</style>\n",
       "<table border=\"1\" class=\"dataframe\">\n",
       "  <thead>\n",
       "    <tr style=\"text-align: right;\">\n",
       "      <th></th>\n",
       "      <th>game_seconds_remaining</th>\n",
       "      <th>yardline_100</th>\n",
       "      <th>ydstogo</th>\n",
       "      <th>posteam_score</th>\n",
       "      <th>defteam_score</th>\n",
       "      <th>Age</th>\n",
       "      <th>QBR</th>\n",
       "      <th>Y/G</th>\n",
       "      <th>Rate</th>\n",
       "      <th>down</th>\n",
       "      <th>shotgun</th>\n",
       "      <th>play_type</th>\n",
       "      <th>qb_kneel</th>\n",
       "      <th>qb_spike</th>\n",
       "    </tr>\n",
       "  </thead>\n",
       "  <tbody>\n",
       "    <tr>\n",
       "      <th>174565</th>\n",
       "      <td>2278.0</td>\n",
       "      <td>70.0</td>\n",
       "      <td>13</td>\n",
       "      <td>14.0</td>\n",
       "      <td>7.0</td>\n",
       "      <td>33.0</td>\n",
       "      <td>62.5</td>\n",
       "      <td>275.6</td>\n",
       "      <td>92.1</td>\n",
       "      <td>2.0</td>\n",
       "      <td>1</td>\n",
       "      <td>pass</td>\n",
       "      <td>0</td>\n",
       "      <td>0</td>\n",
       "    </tr>\n",
       "    <tr>\n",
       "      <th>56744</th>\n",
       "      <td>279.0</td>\n",
       "      <td>77.0</td>\n",
       "      <td>7</td>\n",
       "      <td>36.0</td>\n",
       "      <td>26.0</td>\n",
       "      <td>23.0</td>\n",
       "      <td>47.0</td>\n",
       "      <td>219.5</td>\n",
       "      <td>76.5</td>\n",
       "      <td>3.0</td>\n",
       "      <td>1</td>\n",
       "      <td>pass</td>\n",
       "      <td>0</td>\n",
       "      <td>0</td>\n",
       "    </tr>\n",
       "    <tr>\n",
       "      <th>277993</th>\n",
       "      <td>377.0</td>\n",
       "      <td>16.0</td>\n",
       "      <td>5</td>\n",
       "      <td>10.0</td>\n",
       "      <td>27.0</td>\n",
       "      <td>29.0</td>\n",
       "      <td>65.3</td>\n",
       "      <td>277.9</td>\n",
       "      <td>99.3</td>\n",
       "      <td>2.0</td>\n",
       "      <td>1</td>\n",
       "      <td>pass</td>\n",
       "      <td>0</td>\n",
       "      <td>0</td>\n",
       "    </tr>\n",
       "    <tr>\n",
       "      <th>317709</th>\n",
       "      <td>3004.0</td>\n",
       "      <td>95.0</td>\n",
       "      <td>10</td>\n",
       "      <td>0.0</td>\n",
       "      <td>0.0</td>\n",
       "      <td>21.0</td>\n",
       "      <td>26.6</td>\n",
       "      <td>162.7</td>\n",
       "      <td>66.7</td>\n",
       "      <td>1.0</td>\n",
       "      <td>0</td>\n",
       "      <td>pass</td>\n",
       "      <td>0</td>\n",
       "      <td>0</td>\n",
       "    </tr>\n",
       "    <tr>\n",
       "      <th>328511</th>\n",
       "      <td>1831.0</td>\n",
       "      <td>37.0</td>\n",
       "      <td>6</td>\n",
       "      <td>0.0</td>\n",
       "      <td>20.0</td>\n",
       "      <td>23.0</td>\n",
       "      <td>56.2</td>\n",
       "      <td>284.6</td>\n",
       "      <td>90.8</td>\n",
       "      <td>2.0</td>\n",
       "      <td>1</td>\n",
       "      <td>pass</td>\n",
       "      <td>0</td>\n",
       "      <td>0</td>\n",
       "    </tr>\n",
       "  </tbody>\n",
       "</table>\n",
       "</div>"
      ],
      "text/plain": [
       "        game_seconds_remaining  yardline_100  ydstogo  posteam_score  \\\n",
       "174565                  2278.0          70.0       13           14.0   \n",
       "56744                    279.0          77.0        7           36.0   \n",
       "277993                   377.0          16.0        5           10.0   \n",
       "317709                  3004.0          95.0       10            0.0   \n",
       "328511                  1831.0          37.0        6            0.0   \n",
       "\n",
       "        defteam_score   Age   QBR    Y/G  Rate  down  shotgun play_type  \\\n",
       "174565            7.0  33.0  62.5  275.6  92.1   2.0        1      pass   \n",
       "56744            26.0  23.0  47.0  219.5  76.5   3.0        1      pass   \n",
       "277993           27.0  29.0  65.3  277.9  99.3   2.0        1      pass   \n",
       "317709            0.0  21.0  26.6  162.7  66.7   1.0        0      pass   \n",
       "328511           20.0  23.0  56.2  284.6  90.8   2.0        1      pass   \n",
       "\n",
       "        qb_kneel  qb_spike  \n",
       "174565         0         0  \n",
       "56744          0         0  \n",
       "277993         0         0  \n",
       "317709         0         0  \n",
       "328511         0         0  "
      ]
     },
     "execution_count": 25,
     "metadata": {},
     "output_type": "execute_result"
    }
   ],
   "source": [
    "# feature, or input, dataframe\n",
    "NFL_pass_x  = NFL_pass.drop('yards_gained', axis=1)\n",
    "NFL_pass_x.head()"
   ]
  },
  {
   "cell_type": "code",
   "execution_count": 26,
   "metadata": {},
   "outputs": [
    {
     "data": {
      "text/html": [
       "<div>\n",
       "<style scoped>\n",
       "    .dataframe tbody tr th:only-of-type {\n",
       "        vertical-align: middle;\n",
       "    }\n",
       "\n",
       "    .dataframe tbody tr th {\n",
       "        vertical-align: top;\n",
       "    }\n",
       "\n",
       "    .dataframe thead th {\n",
       "        text-align: right;\n",
       "    }\n",
       "</style>\n",
       "<table border=\"1\" class=\"dataframe\">\n",
       "  <thead>\n",
       "    <tr style=\"text-align: right;\">\n",
       "      <th></th>\n",
       "      <th>game_seconds_remaining</th>\n",
       "      <th>yardline_100</th>\n",
       "      <th>ydstogo</th>\n",
       "      <th>posteam_score</th>\n",
       "      <th>defteam_score</th>\n",
       "      <th>Age</th>\n",
       "      <th>QBR</th>\n",
       "      <th>Y/G</th>\n",
       "      <th>Rate</th>\n",
       "      <th>down</th>\n",
       "      <th>shotgun</th>\n",
       "      <th>qb_kneel</th>\n",
       "      <th>qb_spike</th>\n",
       "    </tr>\n",
       "  </thead>\n",
       "  <tbody>\n",
       "    <tr>\n",
       "      <th>174565</th>\n",
       "      <td>2278.0</td>\n",
       "      <td>70.0</td>\n",
       "      <td>13</td>\n",
       "      <td>14.0</td>\n",
       "      <td>7.0</td>\n",
       "      <td>33.0</td>\n",
       "      <td>62.5</td>\n",
       "      <td>275.6</td>\n",
       "      <td>92.1</td>\n",
       "      <td>2.0</td>\n",
       "      <td>1</td>\n",
       "      <td>0</td>\n",
       "      <td>0</td>\n",
       "    </tr>\n",
       "    <tr>\n",
       "      <th>56744</th>\n",
       "      <td>279.0</td>\n",
       "      <td>77.0</td>\n",
       "      <td>7</td>\n",
       "      <td>36.0</td>\n",
       "      <td>26.0</td>\n",
       "      <td>23.0</td>\n",
       "      <td>47.0</td>\n",
       "      <td>219.5</td>\n",
       "      <td>76.5</td>\n",
       "      <td>3.0</td>\n",
       "      <td>1</td>\n",
       "      <td>0</td>\n",
       "      <td>0</td>\n",
       "    </tr>\n",
       "    <tr>\n",
       "      <th>277993</th>\n",
       "      <td>377.0</td>\n",
       "      <td>16.0</td>\n",
       "      <td>5</td>\n",
       "      <td>10.0</td>\n",
       "      <td>27.0</td>\n",
       "      <td>29.0</td>\n",
       "      <td>65.3</td>\n",
       "      <td>277.9</td>\n",
       "      <td>99.3</td>\n",
       "      <td>2.0</td>\n",
       "      <td>1</td>\n",
       "      <td>0</td>\n",
       "      <td>0</td>\n",
       "    </tr>\n",
       "    <tr>\n",
       "      <th>317709</th>\n",
       "      <td>3004.0</td>\n",
       "      <td>95.0</td>\n",
       "      <td>10</td>\n",
       "      <td>0.0</td>\n",
       "      <td>0.0</td>\n",
       "      <td>21.0</td>\n",
       "      <td>26.6</td>\n",
       "      <td>162.7</td>\n",
       "      <td>66.7</td>\n",
       "      <td>1.0</td>\n",
       "      <td>0</td>\n",
       "      <td>0</td>\n",
       "      <td>0</td>\n",
       "    </tr>\n",
       "    <tr>\n",
       "      <th>328511</th>\n",
       "      <td>1831.0</td>\n",
       "      <td>37.0</td>\n",
       "      <td>6</td>\n",
       "      <td>0.0</td>\n",
       "      <td>20.0</td>\n",
       "      <td>23.0</td>\n",
       "      <td>56.2</td>\n",
       "      <td>284.6</td>\n",
       "      <td>90.8</td>\n",
       "      <td>2.0</td>\n",
       "      <td>1</td>\n",
       "      <td>0</td>\n",
       "      <td>0</td>\n",
       "    </tr>\n",
       "  </tbody>\n",
       "</table>\n",
       "</div>"
      ],
      "text/plain": [
       "        game_seconds_remaining  yardline_100  ydstogo  posteam_score  \\\n",
       "174565                  2278.0          70.0       13           14.0   \n",
       "56744                    279.0          77.0        7           36.0   \n",
       "277993                   377.0          16.0        5           10.0   \n",
       "317709                  3004.0          95.0       10            0.0   \n",
       "328511                  1831.0          37.0        6            0.0   \n",
       "\n",
       "        defteam_score   Age   QBR    Y/G  Rate  down  shotgun  qb_kneel  \\\n",
       "174565            7.0  33.0  62.5  275.6  92.1   2.0        1         0   \n",
       "56744            26.0  23.0  47.0  219.5  76.5   3.0        1         0   \n",
       "277993           27.0  29.0  65.3  277.9  99.3   2.0        1         0   \n",
       "317709            0.0  21.0  26.6  162.7  66.7   1.0        0         0   \n",
       "328511           20.0  23.0  56.2  284.6  90.8   2.0        1         0   \n",
       "\n",
       "        qb_spike  \n",
       "174565         0  \n",
       "56744          0  \n",
       "277993         0  \n",
       "317709         0  \n",
       "328511         0  "
      ]
     },
     "execution_count": 26,
     "metadata": {},
     "output_type": "execute_result"
    }
   ],
   "source": [
    "NFL_pass_x = NFL_pass_x.drop(['play_type'], axis=1)\n",
    "NFL_pass_x.head()"
   ]
  },
  {
   "cell_type": "code",
   "execution_count": 27,
   "metadata": {},
   "outputs": [
    {
     "data": {
      "text/plain": [
       "array([[2.278e+03, 7.000e+01, 1.300e+01, ..., 1.000e+00, 0.000e+00,\n",
       "        0.000e+00],\n",
       "       [2.790e+02, 7.700e+01, 7.000e+00, ..., 1.000e+00, 0.000e+00,\n",
       "        0.000e+00],\n",
       "       [3.770e+02, 1.600e+01, 5.000e+00, ..., 1.000e+00, 0.000e+00,\n",
       "        0.000e+00],\n",
       "       ...,\n",
       "       [2.310e+02, 8.800e+01, 1.000e+01, ..., 1.000e+00, 0.000e+00,\n",
       "        0.000e+00],\n",
       "       [1.881e+03, 3.700e+01, 1.000e+01, ..., 1.000e+00, 0.000e+00,\n",
       "        0.000e+00],\n",
       "       [2.203e+03, 2.000e+00, 2.000e+00, ..., 0.000e+00, 0.000e+00,\n",
       "        0.000e+00]])"
      ]
     },
     "execution_count": 27,
     "metadata": {},
     "output_type": "execute_result"
    }
   ],
   "source": [
    "NFL_pass_x = NFL_pass_x.values\n",
    "NFL_pass_x"
   ]
  },
  {
   "cell_type": "code",
   "execution_count": 28,
   "metadata": {},
   "outputs": [
    {
     "name": "stdout",
     "output_type": "stream",
     "text": [
      "[1. 0. 3. ... 0. 2. 0.] 1.0\n"
     ]
    }
   ],
   "source": [
    "# label, or output, dataframe\n",
    "NFL_pass_y = NFL_pass['yards_gained'].values\n",
    "print(NFL_pass_y, NFL_pass_y[0])"
   ]
  },
  {
   "cell_type": "code",
   "execution_count": 29,
   "metadata": {},
   "outputs": [
    {
     "name": "stdout",
     "output_type": "stream",
     "text": [
      "[[0. 1. 0. 0.]\n",
      " [1. 0. 0. 0.]\n",
      " [0. 0. 0. 1.]\n",
      " ...\n",
      " [1. 0. 0. 0.]\n",
      " [0. 0. 1. 0.]\n",
      " [1. 0. 0. 0.]] [0. 1. 0. 0.]\n"
     ]
    }
   ],
   "source": [
    "# covert the yards gained into categorical variables\n",
    "NFL_pass_y = tf.keras.utils.to_categorical(NFL_pass_y, num_classes=4)\n",
    "print(NFL_pass_y, NFL_pass_y[0])"
   ]
  },
  {
   "cell_type": "code",
   "execution_count": 30,
   "metadata": {},
   "outputs": [],
   "source": [
    "#split the data\n",
    "valid_split = 0.2\n",
    "test_split = 0.1"
   ]
  },
  {
   "cell_type": "code",
   "execution_count": 31,
   "metadata": {},
   "outputs": [],
   "source": [
    "# create the splits in the dataframe\n",
    "v_split = int(NFL_pass.shape[0]*(1-valid_split-test_split))\n",
    "t_split = int(NFL_pass.shape[0]*(1-test_split))\n",
    "\n",
    "# assign training, validation, and test data\n",
    "X_train, Y_train  = NFL_pass_x[:v_split], NFL_pass_y[:v_split]\n",
    "X_valid, Y_valid  = NFL_pass_x[v_split:t_split], NFL_pass_y[v_split:t_split]\n",
    "X_test , Y_test   = NFL_pass_x[t_split:], NFL_pass_y[t_split:]"
   ]
  },
  {
   "cell_type": "code",
   "execution_count": 32,
   "metadata": {},
   "outputs": [],
   "source": [
    "#standardize the data\n",
    "scaler = preprocessing.StandardScaler().fit(X_train[:,0:9]) # mean and variance calculated on specified columns of X_train\n",
    "X_train[:,0:9] = scaler.transform(X_train[:,0:9])\n",
    "X_valid[:,0:9] = scaler.transform(X_valid[:,0:9])\n",
    "X_test[:,0:9]  = scaler.transform(X_test[:,0:9])  "
   ]
  },
  {
   "cell_type": "code",
   "execution_count": 33,
   "metadata": {},
   "outputs": [
    {
     "data": {
      "text/plain": [
       "array([ 0.55456831,  0.70556714,  1.02419449,  0.50622118, -0.51845532,\n",
       "        0.9294753 ,  0.48688152,  0.77827633,  0.34886001,  2.        ,\n",
       "        1.        ,  0.        ,  0.        ])"
      ]
     },
     "execution_count": 33,
     "metadata": {},
     "output_type": "execute_result"
    }
   ],
   "source": [
    "# check that the proper data was standardized\n",
    "X_train[0]"
   ]
  },
  {
   "cell_type": "code",
   "execution_count": 34,
   "metadata": {},
   "outputs": [
    {
     "data": {
      "text/plain": [
       "array([0., 1., 0., 0.], dtype=float32)"
      ]
     },
     "execution_count": 34,
     "metadata": {},
     "output_type": "execute_result"
    }
   ],
   "source": [
    "Y_train[0]"
   ]
  },
  {
   "cell_type": "code",
   "execution_count": 35,
   "metadata": {},
   "outputs": [],
   "source": [
    "# import packages for the model\n",
    "from tensorflow.keras.models import Sequential, Model\n",
    "from tensorflow.keras.layers import Dense, Dropout, BatchNormalization, Activation, Input, add, concatenate\n",
    "from tensorflow.keras.callbacks import EarlyStopping\n",
    "from tensorflow.keras.optimizers import Adam"
   ]
  },
  {
   "cell_type": "markdown",
   "metadata": {},
   "source": [
    "BASIC MODEL, PASSING"
   ]
  },
  {
   "cell_type": "code",
   "execution_count": 36,
   "metadata": {},
   "outputs": [],
   "source": [
    "# initiate model\n",
    "model = Sequential()\n",
    "\n",
    "# add layers\n",
    "model.add(Dense(20, \n",
    "                input_shape=(NFL_pass_x.shape[1],), \n",
    "                activation='relu', \n",
    "                kernel_initializer='he_normal'))\n",
    "model.add(Dense(4, \n",
    "                activation='softmax'))"
   ]
  },
  {
   "cell_type": "code",
   "execution_count": 37,
   "metadata": {},
   "outputs": [],
   "source": [
    "model.compile(loss='categorical_crossentropy', \n",
    "              optimizer=Adam(learning_rate=0.01),\n",
    "              metrics=['accuracy'])"
   ]
  },
  {
   "cell_type": "code",
   "execution_count": 38,
   "metadata": {},
   "outputs": [
    {
     "name": "stdout",
     "output_type": "stream",
     "text": [
      "Model: \"sequential\"\n",
      "_________________________________________________________________\n",
      "Layer (type)                 Output Shape              Param #   \n",
      "=================================================================\n",
      "dense (Dense)                (None, 20)                280       \n",
      "_________________________________________________________________\n",
      "dense_1 (Dense)              (None, 4)                 84        \n",
      "=================================================================\n",
      "Total params: 364\n",
      "Trainable params: 364\n",
      "Non-trainable params: 0\n",
      "_________________________________________________________________\n"
     ]
    }
   ],
   "source": [
    "model.summary()"
   ]
  },
  {
   "cell_type": "code",
   "execution_count": 39,
   "metadata": {},
   "outputs": [],
   "source": [
    "es = EarlyStopping(monitor='val_loss', \n",
    "                   patience=10, \n",
    "                   verbose=1,\n",
    "                   restore_best_weights=True)"
   ]
  },
  {
   "cell_type": "code",
   "execution_count": 40,
   "metadata": {},
   "outputs": [
    {
     "name": "stdout",
     "output_type": "stream",
     "text": [
      "Epoch 1/1000\n",
      "841/841 [==============================] - 1s 1ms/step - loss: 1.2188 - accuracy: 0.4686 - val_loss: 1.2099 - val_accuracy: 0.4691\n",
      "Epoch 2/1000\n",
      "841/841 [==============================] - 1s 983us/step - loss: 1.2076 - accuracy: 0.4711 - val_loss: 1.2077 - val_accuracy: 0.4691\n",
      "Epoch 3/1000\n",
      "841/841 [==============================] - 1s 1ms/step - loss: 1.2057 - accuracy: 0.4709 - val_loss: 1.2102 - val_accuracy: 0.4673\n",
      "Epoch 4/1000\n",
      "841/841 [==============================] - 1s 1ms/step - loss: 1.2048 - accuracy: 0.4715 - val_loss: 1.2063 - val_accuracy: 0.4686\n",
      "Epoch 5/1000\n",
      "841/841 [==============================] - 1s 1ms/step - loss: 1.2040 - accuracy: 0.4715 - val_loss: 1.2060 - val_accuracy: 0.4689\n",
      "Epoch 6/1000\n",
      "841/841 [==============================] - 1s 1ms/step - loss: 1.2034 - accuracy: 0.4713 - val_loss: 1.2066 - val_accuracy: 0.4683\n",
      "Epoch 7/1000\n",
      "841/841 [==============================] - 1s 981us/step - loss: 1.2032 - accuracy: 0.4710 - val_loss: 1.2050 - val_accuracy: 0.4676\n",
      "Epoch 8/1000\n",
      "841/841 [==============================] - 1s 1ms/step - loss: 1.2032 - accuracy: 0.4711 - val_loss: 1.2053 - val_accuracy: 0.4691\n",
      "Epoch 9/1000\n",
      "841/841 [==============================] - 1s 1ms/step - loss: 1.2020 - accuracy: 0.4711 - val_loss: 1.2044 - val_accuracy: 0.4690\n",
      "Epoch 10/1000\n",
      "841/841 [==============================] - 1s 1ms/step - loss: 1.2019 - accuracy: 0.4712 - val_loss: 1.2034 - val_accuracy: 0.4685\n",
      "Epoch 11/1000\n",
      "841/841 [==============================] - 1s 1ms/step - loss: 1.2018 - accuracy: 0.4716 - val_loss: 1.2073 - val_accuracy: 0.4655\n",
      "Epoch 12/1000\n",
      "841/841 [==============================] - 1s 1ms/step - loss: 1.2015 - accuracy: 0.4710 - val_loss: 1.2038 - val_accuracy: 0.4691\n",
      "Epoch 13/1000\n",
      "841/841 [==============================] - 1s 1ms/step - loss: 1.2009 - accuracy: 0.4714 - val_loss: 1.2041 - val_accuracy: 0.4690\n",
      "Epoch 14/1000\n",
      "841/841 [==============================] - 1s 1ms/step - loss: 1.2003 - accuracy: 0.4712 - val_loss: 1.2030 - val_accuracy: 0.4690\n",
      "Epoch 15/1000\n",
      "841/841 [==============================] - 1s 1ms/step - loss: 1.2003 - accuracy: 0.4714 - val_loss: 1.2033 - val_accuracy: 0.4689\n",
      "Epoch 16/1000\n",
      "841/841 [==============================] - 1s 1ms/step - loss: 1.2003 - accuracy: 0.4715 - val_loss: 1.2045 - val_accuracy: 0.4683\n",
      "Epoch 17/1000\n",
      "841/841 [==============================] - 1s 1ms/step - loss: 1.1992 - accuracy: 0.4714 - val_loss: 1.2031 - val_accuracy: 0.4691\n",
      "Epoch 18/1000\n",
      "841/841 [==============================] - 1s 1ms/step - loss: 1.1993 - accuracy: 0.4714 - val_loss: 1.2046 - val_accuracy: 0.4644\n",
      "Epoch 19/1000\n",
      "841/841 [==============================] - 1s 1ms/step - loss: 1.1991 - accuracy: 0.4714 - val_loss: 1.2030 - val_accuracy: 0.4681\n",
      "Epoch 20/1000\n",
      "841/841 [==============================] - 1s 1ms/step - loss: 1.1988 - accuracy: 0.4715 - val_loss: 1.2010 - val_accuracy: 0.4672\n",
      "Epoch 21/1000\n",
      "841/841 [==============================] - 1s 1ms/step - loss: 1.1989 - accuracy: 0.4714 - val_loss: 1.2012 - val_accuracy: 0.4690\n",
      "Epoch 22/1000\n",
      "841/841 [==============================] - 1s 1ms/step - loss: 1.1986 - accuracy: 0.4713 - val_loss: 1.2036 - val_accuracy: 0.4688\n",
      "Epoch 23/1000\n",
      "841/841 [==============================] - 1s 1ms/step - loss: 1.1987 - accuracy: 0.4713 - val_loss: 1.2014 - val_accuracy: 0.4668\n",
      "Epoch 24/1000\n",
      "841/841 [==============================] - 1s 1ms/step - loss: 1.1992 - accuracy: 0.4711 - val_loss: 1.2030 - val_accuracy: 0.4689\n",
      "Epoch 25/1000\n",
      "841/841 [==============================] - 1s 1ms/step - loss: 1.1984 - accuracy: 0.4715 - val_loss: 1.2003 - val_accuracy: 0.4692\n",
      "Epoch 26/1000\n",
      "841/841 [==============================] - 1s 1ms/step - loss: 1.1988 - accuracy: 0.4715 - val_loss: 1.2001 - val_accuracy: 0.4691\n",
      "Epoch 27/1000\n",
      "841/841 [==============================] - 1s 1ms/step - loss: 1.1983 - accuracy: 0.4714 - val_loss: 1.2017 - val_accuracy: 0.4689\n",
      "Epoch 28/1000\n",
      "841/841 [==============================] - 1s 1ms/step - loss: 1.1987 - accuracy: 0.4714 - val_loss: 1.2035 - val_accuracy: 0.4685\n",
      "Epoch 29/1000\n",
      "841/841 [==============================] - 1s 1ms/step - loss: 1.1982 - accuracy: 0.4714 - val_loss: 1.2016 - val_accuracy: 0.4688\n",
      "Epoch 30/1000\n",
      "841/841 [==============================] - 1s 1ms/step - loss: 1.1981 - accuracy: 0.4715 - val_loss: 1.1994 - val_accuracy: 0.4685\n",
      "Epoch 31/1000\n",
      "841/841 [==============================] - 1s 1ms/step - loss: 1.1982 - accuracy: 0.4711 - val_loss: 1.2033 - val_accuracy: 0.4658\n",
      "Epoch 32/1000\n",
      "841/841 [==============================] - 1s 1ms/step - loss: 1.1984 - accuracy: 0.4713 - val_loss: 1.2001 - val_accuracy: 0.4689\n",
      "Epoch 33/1000\n",
      "841/841 [==============================] - 1s 1ms/step - loss: 1.1981 - accuracy: 0.4714 - val_loss: 1.2027 - val_accuracy: 0.4690\n",
      "Epoch 34/1000\n",
      "841/841 [==============================] - 1s 1ms/step - loss: 1.1982 - accuracy: 0.4714 - val_loss: 1.2022 - val_accuracy: 0.4690\n",
      "Epoch 35/1000\n",
      "841/841 [==============================] - 1s 2ms/step - loss: 1.1977 - accuracy: 0.4714 - val_loss: 1.2023 - val_accuracy: 0.4686\n",
      "Epoch 36/1000\n",
      "841/841 [==============================] - 1s 1ms/step - loss: 1.1975 - accuracy: 0.4713 - val_loss: 1.2034 - val_accuracy: 0.4687\n",
      "Epoch 37/1000\n",
      "841/841 [==============================] - 1s 1ms/step - loss: 1.1979 - accuracy: 0.4714 - val_loss: 1.2017 - val_accuracy: 0.4691\n",
      "Epoch 38/1000\n",
      "841/841 [==============================] - 1s 1ms/step - loss: 1.1981 - accuracy: 0.4712 - val_loss: 1.1998 - val_accuracy: 0.4690\n",
      "Epoch 39/1000\n",
      "841/841 [==============================] - 1s 1ms/step - loss: 1.1977 - accuracy: 0.4714 - val_loss: 1.2000 - val_accuracy: 0.4691\n",
      "Epoch 40/1000\n",
      "841/841 [==============================] - 1s 1ms/step - loss: 1.1979 - accuracy: 0.4713 - val_loss: 1.2010 - val_accuracy: 0.4670\n",
      "Restoring model weights from the end of the best epoch.\n",
      "Epoch 00040: early stopping\n"
     ]
    },
    {
     "data": {
      "text/plain": [
       "<keras.callbacks.History at 0x29bc4d33f70>"
      ]
     },
     "execution_count": 40,
     "metadata": {},
     "output_type": "execute_result"
    }
   ],
   "source": [
    "model.fit(X_train, Y_train, \n",
    "          epochs=1000, \n",
    "          callbacks=[es],\n",
    "          batch_size=156, \n",
    "          shuffle=True,  \n",
    "          validation_data=(X_valid, Y_valid))"
   ]
  },
  {
   "cell_type": "code",
   "execution_count": 41,
   "metadata": {},
   "outputs": [
    {
     "name": "stdout",
     "output_type": "stream",
     "text": [
      "586/586 [==============================] - 0s 745us/step - loss: 1.1957 - accuracy: 0.4745\n"
     ]
    },
    {
     "data": {
      "text/plain": [
       "[1.1957292556762695, 0.4744712710380554]"
      ]
     },
     "execution_count": 41,
     "metadata": {},
     "output_type": "execute_result"
    }
   ],
   "source": [
    "model.evaluate(X_test, Y_test)"
   ]
  },
  {
   "cell_type": "code",
   "execution_count": 42,
   "metadata": {},
   "outputs": [
    {
     "data": {
      "text/plain": [
       "<AxesSubplot:>"
      ]
     },
     "execution_count": 42,
     "metadata": {},
     "output_type": "execute_result"
    },
    {
     "data": {
      "image/png": "[encoded data removed]",
      "text/plain": [
       "<Figure size 432x288 with 2 Axes>"
      ]
     },
     "metadata": {
      "needs_background": "light"
     },
     "output_type": "display_data"
    }
   ],
   "source": [
    "preds = model.predict(X_test)\n",
    "preds_label = np.argmax(preds, axis=1)\n",
    "\n",
    "conf = confusion_matrix(preds_label, np.argmax(Y_test, axis=1))\n",
    "sns.heatmap(conf, annot=True, fmt='d')"
   ]
  },
  {
   "cell_type": "markdown",
   "metadata": {},
   "source": [
    "COMPLEX FULLY CONNECTED, PASSING"
   ]
  },
  {
   "cell_type": "code",
   "execution_count": 43,
   "metadata": {},
   "outputs": [
    {
     "name": "stdout",
     "output_type": "stream",
     "text": [
      "Epoch 1/1000\n",
      "841/841 [==============================] - 2s 2ms/step - loss: 1.2190 - accuracy: 0.4704 - val_loss: 1.2122 - val_accuracy: 0.4690\n",
      "Epoch 2/1000\n",
      "841/841 [==============================] - 1s 1ms/step - loss: 1.2097 - accuracy: 0.4713 - val_loss: 1.2094 - val_accuracy: 0.4690\n",
      "Epoch 3/1000\n",
      "841/841 [==============================] - 1s 1ms/step - loss: 1.2081 - accuracy: 0.4714 - val_loss: 1.2065 - val_accuracy: 0.4690\n",
      "Epoch 4/1000\n",
      "841/841 [==============================] - 1s 1ms/step - loss: 1.2068 - accuracy: 0.4712 - val_loss: 1.2062 - val_accuracy: 0.4691\n",
      "Epoch 5/1000\n",
      "841/841 [==============================] - 1s 1ms/step - loss: 1.2053 - accuracy: 0.4715 - val_loss: 1.2047 - val_accuracy: 0.4690\n",
      "Epoch 6/1000\n",
      "841/841 [==============================] - 1s 1ms/step - loss: 1.2050 - accuracy: 0.4712 - val_loss: 1.2061 - val_accuracy: 0.4690\n",
      "Epoch 7/1000\n",
      "841/841 [==============================] - 1s 1ms/step - loss: 1.2041 - accuracy: 0.4713 - val_loss: 1.2025 - val_accuracy: 0.4690\n",
      "Epoch 8/1000\n",
      "841/841 [==============================] - 1s 1ms/step - loss: 1.2037 - accuracy: 0.4712 - val_loss: 1.2012 - val_accuracy: 0.4690\n",
      "Epoch 9/1000\n",
      "841/841 [==============================] - 1s 1ms/step - loss: 1.2030 - accuracy: 0.4710 - val_loss: 1.2055 - val_accuracy: 0.4690\n",
      "Epoch 10/1000\n",
      "841/841 [==============================] - 1s 1ms/step - loss: 1.2021 - accuracy: 0.4710 - val_loss: 1.2012 - val_accuracy: 0.4689\n",
      "Epoch 11/1000\n",
      "841/841 [==============================] - 1s 1ms/step - loss: 1.2018 - accuracy: 0.4711 - val_loss: 1.2027 - val_accuracy: 0.4690\n",
      "Epoch 12/1000\n",
      "841/841 [==============================] - 1s 1ms/step - loss: 1.2019 - accuracy: 0.4711 - val_loss: 1.2046 - val_accuracy: 0.4669\n",
      "Epoch 13/1000\n",
      "841/841 [==============================] - 1s 1ms/step - loss: 1.2012 - accuracy: 0.4710 - val_loss: 1.2016 - val_accuracy: 0.4690\n",
      "Epoch 14/1000\n",
      "841/841 [==============================] - 1s 1ms/step - loss: 1.2011 - accuracy: 0.4711 - val_loss: 1.2014 - val_accuracy: 0.4686\n",
      "Epoch 15/1000\n",
      "841/841 [==============================] - 1s 1ms/step - loss: 1.2004 - accuracy: 0.4710 - val_loss: 1.1990 - val_accuracy: 0.4690\n",
      "Epoch 16/1000\n",
      "841/841 [==============================] - 1s 1ms/step - loss: 1.2006 - accuracy: 0.4709 - val_loss: 1.2070 - val_accuracy: 0.4689\n",
      "Epoch 17/1000\n",
      "841/841 [==============================] - 1s 1ms/step - loss: 1.2005 - accuracy: 0.4708 - val_loss: 1.2008 - val_accuracy: 0.4686\n",
      "Epoch 18/1000\n",
      "841/841 [==============================] - 1s 1ms/step - loss: 1.2000 - accuracy: 0.4711 - val_loss: 1.2014 - val_accuracy: 0.4690\n",
      "Epoch 19/1000\n",
      "841/841 [==============================] - 1s 1ms/step - loss: 1.2003 - accuracy: 0.4712 - val_loss: 1.2039 - val_accuracy: 0.4690\n",
      "Epoch 20/1000\n",
      "841/841 [==============================] - 1s 1ms/step - loss: 1.2003 - accuracy: 0.4711 - val_loss: 1.1994 - val_accuracy: 0.4690\n",
      "Epoch 21/1000\n",
      "841/841 [==============================] - 1s 1ms/step - loss: 1.2003 - accuracy: 0.4711 - val_loss: 1.2008 - val_accuracy: 0.4690\n",
      "Epoch 22/1000\n",
      "841/841 [==============================] - 1s 1ms/step - loss: 1.2007 - accuracy: 0.4712 - val_loss: 1.2014 - val_accuracy: 0.4690\n",
      "Epoch 23/1000\n",
      "841/841 [==============================] - 1s 1ms/step - loss: 1.1999 - accuracy: 0.4712 - val_loss: 1.1990 - val_accuracy: 0.4689\n",
      "Epoch 24/1000\n",
      "841/841 [==============================] - 1s 2ms/step - loss: 1.2006 - accuracy: 0.4711 - val_loss: 1.2006 - val_accuracy: 0.4690\n",
      "Epoch 25/1000\n",
      "841/841 [==============================] - 1s 2ms/step - loss: 1.2010 - accuracy: 0.4712 - val_loss: 1.1979 - val_accuracy: 0.4685\n",
      "Epoch 26/1000\n",
      "841/841 [==============================] - 1s 2ms/step - loss: 1.2004 - accuracy: 0.4710 - val_loss: 1.2001 - val_accuracy: 0.4690\n",
      "Epoch 27/1000\n",
      "841/841 [==============================] - 1s 2ms/step - loss: 1.2006 - accuracy: 0.4707 - val_loss: 1.2068 - val_accuracy: 0.4689\n",
      "Epoch 28/1000\n",
      "841/841 [==============================] - 1s 2ms/step - loss: 1.2003 - accuracy: 0.4709 - val_loss: 1.1999 - val_accuracy: 0.4692\n",
      "Epoch 29/1000\n",
      "841/841 [==============================] - 1s 2ms/step - loss: 1.2001 - accuracy: 0.4710 - val_loss: 1.1978 - val_accuracy: 0.4692\n",
      "Epoch 30/1000\n",
      "841/841 [==============================] - 1s 2ms/step - loss: 1.2000 - accuracy: 0.4710 - val_loss: 1.1981 - val_accuracy: 0.4691\n",
      "Epoch 31/1000\n",
      "841/841 [==============================] - 1s 2ms/step - loss: 1.1999 - accuracy: 0.4711 - val_loss: 1.2007 - val_accuracy: 0.4690\n",
      "Epoch 32/1000\n",
      "841/841 [==============================] - 1s 2ms/step - loss: 1.2003 - accuracy: 0.4709 - val_loss: 1.1989 - val_accuracy: 0.4681\n",
      "Epoch 33/1000\n",
      "841/841 [==============================] - 1s 2ms/step - loss: 1.1999 - accuracy: 0.4712 - val_loss: 1.2007 - val_accuracy: 0.4690\n",
      "Epoch 34/1000\n",
      "841/841 [==============================] - 1s 2ms/step - loss: 1.2000 - accuracy: 0.4709 - val_loss: 1.1990 - val_accuracy: 0.4690\n",
      "Epoch 35/1000\n",
      "841/841 [==============================] - 1s 2ms/step - loss: 1.2000 - accuracy: 0.4709 - val_loss: 1.2039 - val_accuracy: 0.4691\n",
      "Epoch 36/1000\n",
      "841/841 [==============================] - 1s 1ms/step - loss: 1.2002 - accuracy: 0.4709 - val_loss: 1.2022 - val_accuracy: 0.4685\n",
      "Epoch 37/1000\n",
      "841/841 [==============================] - 1s 1ms/step - loss: 1.1999 - accuracy: 0.4711 - val_loss: 1.1987 - val_accuracy: 0.4690\n",
      "Epoch 38/1000\n",
      "841/841 [==============================] - 1s 1ms/step - loss: 1.2002 - accuracy: 0.4710 - val_loss: 1.2015 - val_accuracy: 0.4685\n",
      "Epoch 39/1000\n",
      "841/841 [==============================] - 1s 1ms/step - loss: 1.2005 - accuracy: 0.4712 - val_loss: 1.2013 - val_accuracy: 0.4691\n",
      "Restoring model weights from the end of the best epoch.\n",
      "Epoch 00039: early stopping\n"
     ]
    },
    {
     "data": {
      "text/plain": [
       "<keras.callbacks.History at 0x29bc4e75490>"
      ]
     },
     "execution_count": 43,
     "metadata": {},
     "output_type": "execute_result"
    }
   ],
   "source": [
    "# initiate model\n",
    "model = Sequential()\n",
    "\n",
    "# add layers\n",
    "model.add(Dense(20, \n",
    "                input_shape=(NFL_pass_x.shape[1],), \n",
    "                activation='relu', \n",
    "                kernel_initializer='he_normal'))\n",
    "model.add(Dense(20,  \n",
    "                activation='relu', \n",
    "                kernel_initializer='he_normal'))\n",
    "model.add(Dense(20, \n",
    "                activation='relu', \n",
    "                kernel_initializer='he_normal'))\n",
    "model.add(Dropout(0.2))\n",
    "    \n",
    "model.add(Dense(4, \n",
    "                activation='softmax'))\n",
    "\n",
    "\n",
    "\n",
    "model.compile(loss='categorical_crossentropy', \n",
    "              optimizer=Adam(learning_rate=0.01),\n",
    "              metrics=['accuracy'])\n",
    "\n",
    "es = EarlyStopping(monitor='val_loss', \n",
    "                   patience=10, \n",
    "                   verbose=1,\n",
    "                   restore_best_weights=True)\n",
    "\n",
    "model.fit(X_train, Y_train, \n",
    "          epochs=1000, \n",
    "          callbacks=[es],\n",
    "          batch_size=156, \n",
    "          shuffle=True,  \n",
    "          validation_data=(X_valid, Y_valid))"
   ]
  },
  {
   "cell_type": "code",
   "execution_count": 44,
   "metadata": {},
   "outputs": [
    {
     "name": "stdout",
     "output_type": "stream",
     "text": [
      "586/586 [==============================] - 0s 813us/step - loss: 1.1968 - accuracy: 0.4746\n"
     ]
    },
    {
     "data": {
      "text/plain": [
       "[1.1967803239822388, 0.4745780825614929]"
      ]
     },
     "execution_count": 44,
     "metadata": {},
     "output_type": "execute_result"
    }
   ],
   "source": [
    "model.evaluate(X_test, Y_test)"
   ]
  },
  {
   "cell_type": "code",
   "execution_count": 45,
   "metadata": {},
   "outputs": [
    {
     "data": {
      "text/plain": [
       "<AxesSubplot:>"
      ]
     },
     "execution_count": 45,
     "metadata": {},
     "output_type": "execute_result"
    },
    {
     "data": {
      "image/png": "[encoded data removed]",
      "text/plain": [
       "<Figure size 432x288 with 2 Axes>"
      ]
     },
     "metadata": {
      "needs_background": "light"
     },
     "output_type": "display_data"
    }
   ],
   "source": [
    "preds = model.predict(X_test)\n",
    "preds_label = np.argmax(preds, axis=1)\n",
    "\n",
    "conf = confusion_matrix(preds_label, np.argmax(Y_test, axis=1))\n",
    "sns.heatmap(conf, annot=True, fmt='d')"
   ]
  },
  {
   "cell_type": "markdown",
   "metadata": {},
   "source": [
    "BASIC MODEL, RESIDUAL CONNECTION"
   ]
  },
  {
   "cell_type": "code",
   "execution_count": 46,
   "metadata": {},
   "outputs": [],
   "source": [
    "# Model\n",
    "inp = Input(shape=(X_train.shape[1],))\n",
    "\n",
    "x = inp\n",
    "x = Dense(10, activation='relu', \n",
    "              kernel_initializer='he_normal')(x)\n",
    "x = Dense(5, activation='relu', \n",
    "             kernel_initializer='he_normal')(x)\n",
    "\n",
    "res = Dense(5, activation='relu', \n",
    "               kernel_initializer='he_normal')(inp)\n",
    "\n",
    "x = add([x,res])\n",
    "\n",
    "out = Dense(4, activation='softmax')(x)"
   ]
  },
  {
   "cell_type": "code",
   "execution_count": 47,
   "metadata": {},
   "outputs": [],
   "source": [
    "model = Model(inputs = inp, outputs=out)"
   ]
  },
  {
   "cell_type": "code",
   "execution_count": 48,
   "metadata": {},
   "outputs": [
    {
     "name": "stdout",
     "output_type": "stream",
     "text": [
      "Epoch 1/10000\n",
      "841/841 [==============================] - 2s 1ms/step - loss: 1.2248 - accuracy: 0.4704 - val_loss: 1.2205 - val_accuracy: 0.4690\n",
      "Epoch 2/10000\n",
      "841/841 [==============================] - 1s 1ms/step - loss: 1.2197 - accuracy: 0.4713 - val_loss: 1.2346 - val_accuracy: 0.4690\n",
      "Epoch 3/10000\n",
      "841/841 [==============================] - 1s 1ms/step - loss: 1.2193 - accuracy: 0.4707 - val_loss: 1.2246 - val_accuracy: 0.4682\n",
      "Epoch 4/10000\n",
      "841/841 [==============================] - 1s 1ms/step - loss: 1.2181 - accuracy: 0.4713 - val_loss: 1.2191 - val_accuracy: 0.4690\n",
      "Epoch 5/10000\n",
      "841/841 [==============================] - ETA: 0s - loss: 1.2182 - accuracy: 0.47 - 1s 2ms/step - loss: 1.2179 - accuracy: 0.4711 - val_loss: 1.2174 - val_accuracy: 0.4690\n",
      "Epoch 6/10000\n",
      "841/841 [==============================] - 1s 1ms/step - loss: 1.2170 - accuracy: 0.4714 - val_loss: 1.2237 - val_accuracy: 0.4690\n",
      "Epoch 7/10000\n",
      "841/841 [==============================] - 1s 1ms/step - loss: 1.2174 - accuracy: 0.4711 - val_loss: 1.2188 - val_accuracy: 0.4690\n",
      "Epoch 8/10000\n",
      "841/841 [==============================] - 1s 1ms/step - loss: 1.2180 - accuracy: 0.4713 - val_loss: 1.2162 - val_accuracy: 0.4690\n",
      "Epoch 9/10000\n",
      "841/841 [==============================] - 1s 1ms/step - loss: 1.2180 - accuracy: 0.4711 - val_loss: 1.2196 - val_accuracy: 0.4690\n",
      "Epoch 10/10000\n",
      "841/841 [==============================] - 1s 1ms/step - loss: 1.2173 - accuracy: 0.4712 - val_loss: 1.2304 - val_accuracy: 0.4588\n",
      "Epoch 11/10000\n",
      "841/841 [==============================] - 1s 1ms/step - loss: 1.2175 - accuracy: 0.4711 - val_loss: 1.2199 - val_accuracy: 0.4690\n",
      "Epoch 12/10000\n",
      "841/841 [==============================] - 1s 1ms/step - loss: 1.2167 - accuracy: 0.4711 - val_loss: 1.2249 - val_accuracy: 0.4690\n",
      "Epoch 13/10000\n",
      "841/841 [==============================] - 1s 1ms/step - loss: 1.2176 - accuracy: 0.4713 - val_loss: 1.2167 - val_accuracy: 0.4690\n",
      "Epoch 14/10000\n",
      "841/841 [==============================] - 1s 1ms/step - loss: 1.2174 - accuracy: 0.4712 - val_loss: 1.2277 - val_accuracy: 0.4689\n",
      "Epoch 15/10000\n",
      "841/841 [==============================] - 1s 1ms/step - loss: 1.2171 - accuracy: 0.4712 - val_loss: 1.2221 - val_accuracy: 0.4690\n",
      "Epoch 16/10000\n",
      "841/841 [==============================] - 1s 1ms/step - loss: 1.2167 - accuracy: 0.4712 - val_loss: 1.2264 - val_accuracy: 0.4690\n",
      "Epoch 17/10000\n",
      "841/841 [==============================] - 1s 1ms/step - loss: 1.2165 - accuracy: 0.4711 - val_loss: 1.2135 - val_accuracy: 0.4690\n",
      "Epoch 18/10000\n",
      "841/841 [==============================] - 1s 1ms/step - loss: 1.2166 - accuracy: 0.4710 - val_loss: 1.2175 - val_accuracy: 0.4690\n",
      "Epoch 19/10000\n",
      "841/841 [==============================] - 1s 1ms/step - loss: 1.2170 - accuracy: 0.4712 - val_loss: 1.2176 - val_accuracy: 0.4690\n",
      "Epoch 20/10000\n",
      "841/841 [==============================] - 1s 1ms/step - loss: 1.2163 - accuracy: 0.4712 - val_loss: 1.2169 - val_accuracy: 0.4690\n",
      "Epoch 21/10000\n",
      "841/841 [==============================] - 1s 1ms/step - loss: 1.2172 - accuracy: 0.4711 - val_loss: 1.2160 - val_accuracy: 0.4690\n",
      "Epoch 22/10000\n",
      "841/841 [==============================] - 1s 1ms/step - loss: 1.2174 - accuracy: 0.4710 - val_loss: 1.2176 - val_accuracy: 0.4690\n",
      "Epoch 23/10000\n",
      "841/841 [==============================] - 1s 2ms/step - loss: 1.2171 - accuracy: 0.4712 - val_loss: 1.2188 - val_accuracy: 0.4685\n",
      "Epoch 24/10000\n",
      "841/841 [==============================] - 1s 1ms/step - loss: 1.2170 - accuracy: 0.4711 - val_loss: 1.2146 - val_accuracy: 0.4690\n",
      "Epoch 25/10000\n",
      "841/841 [==============================] - 1s 1ms/step - loss: 1.2171 - accuracy: 0.4711 - val_loss: 1.2229 - val_accuracy: 0.4603\n",
      "Epoch 26/10000\n",
      "841/841 [==============================] - 1s 1ms/step - loss: 1.2165 - accuracy: 0.4711 - val_loss: 1.2184 - val_accuracy: 0.4690\n",
      "Epoch 27/10000\n",
      "841/841 [==============================] - 1s 1ms/step - loss: 1.2173 - accuracy: 0.4711 - val_loss: 1.2183 - val_accuracy: 0.4674\n"
     ]
    },
    {
     "data": {
      "text/plain": [
       "<keras.callbacks.History at 0x29bc55eb490>"
      ]
     },
     "execution_count": 48,
     "metadata": {},
     "output_type": "execute_result"
    }
   ],
   "source": [
    "es = EarlyStopping(patience=10, \n",
    "                   monitor='val_loss', \n",
    "                   restore_best_weights=True)\n",
    "model.compile(loss='categorical_crossentropy', \n",
    "              optimizer=Adam(learning_rate=0.1),\n",
    "              metrics=['accuracy'])\n",
    "model.fit(X_train, Y_train, \n",
    "          validation_data=(X_valid, Y_valid),\n",
    "          batch_size=156,\n",
    "          epochs=10000, \n",
    "          callbacks=[es])"
   ]
  },
  {
   "cell_type": "code",
   "execution_count": 49,
   "metadata": {},
   "outputs": [
    {
     "name": "stdout",
     "output_type": "stream",
     "text": [
      "586/586 [==============================] - 1s 818us/step - loss: 1.2117 - accuracy: 0.4744\n"
     ]
    },
    {
     "data": {
      "text/plain": [
       "[1.2116719484329224, 0.47441786527633667]"
      ]
     },
     "execution_count": 49,
     "metadata": {},
     "output_type": "execute_result"
    }
   ],
   "source": [
    "model.evaluate(X_test, Y_test)"
   ]
  },
  {
   "cell_type": "code",
   "execution_count": 50,
   "metadata": {},
   "outputs": [
    {
     "data": {
      "text/plain": [
       "<AxesSubplot:>"
      ]
     },
     "execution_count": 50,
     "metadata": {},
     "output_type": "execute_result"
    },
    {
     "data": {
      "image/png": "[encoded data removed]",
      "text/plain": [
       "<Figure size 432x288 with 2 Axes>"
      ]
     },
     "metadata": {
      "needs_background": "light"
     },
     "output_type": "display_data"
    }
   ],
   "source": [
    "preds = model.predict(X_test)\n",
    "preds_label = np.argmax(preds, axis=1)\n",
    "\n",
    "conf = confusion_matrix(preds_label, np.argmax(Y_test, axis=1))\n",
    "sns.heatmap(conf, annot=True, fmt='d')"
   ]
  },
  {
   "cell_type": "markdown",
   "metadata": {},
   "source": [
    "COMPLEX MODEL, RESIDUAL CONNECTION"
   ]
  },
  {
   "cell_type": "code",
   "execution_count": 51,
   "metadata": {},
   "outputs": [],
   "source": [
    "inp = Input(shape=(X_train.shape[1],))\n",
    "\n",
    "x = inp\n",
    "# first pair\n",
    "x = Dense(8, activation='sigmoid')(x)\n",
    "x = Dense(4, activation='sigmoid')(x)\n",
    "res1 = Dense(4, activation='sigmoid')(inp) # connection to the first pair\n",
    "x = add([x,res1]) # add first residual with first pair\n",
    "\n",
    "res2 = Dense(5, activation='sigmoid')(x) # connection to second paiR\n",
    "\n",
    "# second pair\n",
    "x = Dense(10, activation='sigmoid')(x)\n",
    "x = Dense(5, activation='sigmoid')(x)\n",
    "x = add([x,res2]) # add second residual with second pair\n",
    "\n",
    "res3 = Dense(5, activation='sigmoid')(inp) # connection across the whole network, beginning to second residual connection\n",
    "x = add([x, res3]) # add overaching residual with the output of the second pair/residual addition (x)\n",
    "\n",
    "out = Dense(4, activation='softmax')(x)"
   ]
  },
  {
   "cell_type": "code",
   "execution_count": 52,
   "metadata": {},
   "outputs": [
    {
     "name": "stdout",
     "output_type": "stream",
     "text": [
      "Epoch 1/10000\n",
      "841/841 [==============================] - 2s 2ms/step - loss: 1.2244 - accuracy: 0.4691 - val_loss: 1.2185 - val_accuracy: 0.4689\n",
      "Epoch 2/10000\n",
      "841/841 [==============================] - 1s 1ms/step - loss: 1.2131 - accuracy: 0.4702 - val_loss: 1.2158 - val_accuracy: 0.4688\n",
      "Epoch 3/10000\n",
      "841/841 [==============================] - 1s 1ms/step - loss: 1.2112 - accuracy: 0.4711 - val_loss: 1.2147 - val_accuracy: 0.4690\n",
      "Epoch 4/10000\n",
      "841/841 [==============================] - 1s 1ms/step - loss: 1.2110 - accuracy: 0.4709 - val_loss: 1.2126 - val_accuracy: 0.4690\n",
      "Epoch 5/10000\n",
      "841/841 [==============================] - 1s 1ms/step - loss: 1.2102 - accuracy: 0.4710 - val_loss: 1.2104 - val_accuracy: 0.4690\n",
      "Epoch 6/10000\n",
      "841/841 [==============================] - 1s 2ms/step - loss: 1.2111 - accuracy: 0.4712 - val_loss: 1.2105 - val_accuracy: 0.4679\n",
      "Epoch 7/10000\n",
      "841/841 [==============================] - 1s 2ms/step - loss: 1.2118 - accuracy: 0.4711 - val_loss: 1.2135 - val_accuracy: 0.4690\n",
      "Epoch 8/10000\n",
      "841/841 [==============================] - 1s 1ms/step - loss: 1.2112 - accuracy: 0.4710 - val_loss: 1.2126 - val_accuracy: 0.4690\n",
      "Epoch 9/10000\n",
      "841/841 [==============================] - 1s 1ms/step - loss: 1.2102 - accuracy: 0.4710 - val_loss: 1.2153 - val_accuracy: 0.4690\n",
      "Epoch 10/10000\n",
      "841/841 [==============================] - 1s 2ms/step - loss: 1.2097 - accuracy: 0.4713 - val_loss: 1.2157 - val_accuracy: 0.4680\n",
      "Epoch 11/10000\n",
      "841/841 [==============================] - 1s 2ms/step - loss: 1.2107 - accuracy: 0.4708 - val_loss: 1.2139 - val_accuracy: 0.4690\n",
      "Epoch 12/10000\n",
      "841/841 [==============================] - 1s 2ms/step - loss: 1.2107 - accuracy: 0.4713 - val_loss: 1.2112 - val_accuracy: 0.4690\n",
      "Epoch 13/10000\n",
      "841/841 [==============================] - 1s 1ms/step - loss: 1.2090 - accuracy: 0.4713 - val_loss: 1.2208 - val_accuracy: 0.4690\n",
      "Epoch 14/10000\n",
      "841/841 [==============================] - 1s 2ms/step - loss: 1.2096 - accuracy: 0.4710 - val_loss: 1.2123 - val_accuracy: 0.4690\n",
      "Epoch 15/10000\n",
      "841/841 [==============================] - 1s 2ms/step - loss: 1.2111 - accuracy: 0.4714 - val_loss: 1.2130 - val_accuracy: 0.4690\n"
     ]
    },
    {
     "data": {
      "text/plain": [
       "<keras.callbacks.History at 0x29bc6883490>"
      ]
     },
     "execution_count": 52,
     "metadata": {},
     "output_type": "execute_result"
    }
   ],
   "source": [
    "model = Model(inputs = inp, outputs=out)\n",
    "\n",
    "es = EarlyStopping(patience=10, \n",
    "                   monitor='val_loss', \n",
    "                   restore_best_weights=True)\n",
    "model.compile(loss='categorical_crossentropy', \n",
    "              optimizer=Adam(learning_rate=0.1),\n",
    "              metrics=['accuracy'])\n",
    "model.fit(X_train, Y_train, \n",
    "          validation_data=(X_valid, Y_valid),\n",
    "          batch_size=156,\n",
    "          epochs=10000, \n",
    "          callbacks=[es])"
   ]
  },
  {
   "cell_type": "code",
   "execution_count": 53,
   "metadata": {},
   "outputs": [
    {
     "name": "stdout",
     "output_type": "stream",
     "text": [
      "586/586 [==============================] - 1s 839us/step - loss: 1.2065 - accuracy: 0.4744\n"
     ]
    },
    {
     "data": {
      "text/plain": [
       "[1.2065118551254272, 0.47441786527633667]"
      ]
     },
     "execution_count": 53,
     "metadata": {},
     "output_type": "execute_result"
    }
   ],
   "source": [
    "model.evaluate(X_test, Y_test)"
   ]
  },
  {
   "cell_type": "code",
   "execution_count": 54,
   "metadata": {},
   "outputs": [
    {
     "data": {
      "text/plain": [
       "<AxesSubplot:>"
      ]
     },
     "execution_count": 54,
     "metadata": {},
     "output_type": "execute_result"
    },
    {
     "data": {
      "image/png": "[encoded data removed]",
      "text/plain": [
       "<Figure size 432x288 with 2 Axes>"
      ]
     },
     "metadata": {
      "needs_background": "light"
     },
     "output_type": "display_data"
    }
   ],
   "source": [
    "preds = model.predict(X_test)\n",
    "preds_label = np.argmax(preds, axis=1)\n",
    "\n",
    "conf = confusion_matrix(preds_label, np.argmax(Y_test, axis=1))\n",
    "sns.heatmap(conf, annot=True, fmt='d')"
   ]
  },
  {
   "cell_type": "markdown",
   "metadata": {},
   "source": [
    "RUSH DATA"
   ]
  },
  {
   "cell_type": "code",
   "execution_count": 55,
   "metadata": {},
   "outputs": [
    {
     "data": {
      "text/html": [
       "<div>\n",
       "<style scoped>\n",
       "    .dataframe tbody tr th:only-of-type {\n",
       "        vertical-align: middle;\n",
       "    }\n",
       "\n",
       "    .dataframe tbody tr th {\n",
       "        vertical-align: top;\n",
       "    }\n",
       "\n",
       "    .dataframe thead th {\n",
       "        text-align: right;\n",
       "    }\n",
       "</style>\n",
       "<table border=\"1\" class=\"dataframe\">\n",
       "  <thead>\n",
       "    <tr style=\"text-align: right;\">\n",
       "      <th></th>\n",
       "      <th>game_seconds_remaining</th>\n",
       "      <th>yardline_100</th>\n",
       "      <th>ydstogo</th>\n",
       "      <th>posteam_score</th>\n",
       "      <th>defteam_score</th>\n",
       "      <th>AVG</th>\n",
       "      <th>YPG</th>\n",
       "      <th>down</th>\n",
       "      <th>shotgun</th>\n",
       "      <th>qb_kneel</th>\n",
       "      <th>qb_spike</th>\n",
       "    </tr>\n",
       "  </thead>\n",
       "  <tbody>\n",
       "    <tr>\n",
       "      <th>176362</th>\n",
       "      <td>352.0</td>\n",
       "      <td>50.0</td>\n",
       "      <td>7</td>\n",
       "      <td>41.0</td>\n",
       "      <td>10.0</td>\n",
       "      <td>3.92</td>\n",
       "      <td>20.8</td>\n",
       "      <td>2.0</td>\n",
       "      <td>0</td>\n",
       "      <td>0</td>\n",
       "      <td>0</td>\n",
       "    </tr>\n",
       "    <tr>\n",
       "      <th>106976</th>\n",
       "      <td>2852.0</td>\n",
       "      <td>70.0</td>\n",
       "      <td>10</td>\n",
       "      <td>0.0</td>\n",
       "      <td>7.0</td>\n",
       "      <td>3.80</td>\n",
       "      <td>43.7</td>\n",
       "      <td>1.0</td>\n",
       "      <td>0</td>\n",
       "      <td>0</td>\n",
       "      <td>0</td>\n",
       "    </tr>\n",
       "    <tr>\n",
       "      <th>268634</th>\n",
       "      <td>2479.0</td>\n",
       "      <td>85.0</td>\n",
       "      <td>5</td>\n",
       "      <td>17.0</td>\n",
       "      <td>0.0</td>\n",
       "      <td>4.43</td>\n",
       "      <td>47.9</td>\n",
       "      <td>2.0</td>\n",
       "      <td>1</td>\n",
       "      <td>0</td>\n",
       "      <td>0</td>\n",
       "    </tr>\n",
       "    <tr>\n",
       "      <th>6567</th>\n",
       "      <td>505.0</td>\n",
       "      <td>73.0</td>\n",
       "      <td>10</td>\n",
       "      <td>20.0</td>\n",
       "      <td>19.0</td>\n",
       "      <td>4.44</td>\n",
       "      <td>61.6</td>\n",
       "      <td>1.0</td>\n",
       "      <td>0</td>\n",
       "      <td>0</td>\n",
       "      <td>0</td>\n",
       "    </tr>\n",
       "    <tr>\n",
       "      <th>183987</th>\n",
       "      <td>2802.0</td>\n",
       "      <td>80.0</td>\n",
       "      <td>10</td>\n",
       "      <td>10.0</td>\n",
       "      <td>10.0</td>\n",
       "      <td>3.92</td>\n",
       "      <td>20.8</td>\n",
       "      <td>1.0</td>\n",
       "      <td>1</td>\n",
       "      <td>0</td>\n",
       "      <td>0</td>\n",
       "    </tr>\n",
       "  </tbody>\n",
       "</table>\n",
       "</div>"
      ],
      "text/plain": [
       "        game_seconds_remaining  yardline_100  ydstogo  posteam_score  \\\n",
       "176362                   352.0          50.0        7           41.0   \n",
       "106976                  2852.0          70.0       10            0.0   \n",
       "268634                  2479.0          85.0        5           17.0   \n",
       "6567                     505.0          73.0       10           20.0   \n",
       "183987                  2802.0          80.0       10           10.0   \n",
       "\n",
       "        defteam_score   AVG   YPG  down  shotgun  qb_kneel  qb_spike  \n",
       "176362           10.0  3.92  20.8   2.0        0         0         0  \n",
       "106976            7.0  3.80  43.7   1.0        0         0         0  \n",
       "268634            0.0  4.43  47.9   2.0        1         0         0  \n",
       "6567             19.0  4.44  61.6   1.0        0         0         0  \n",
       "183987           10.0  3.92  20.8   1.0        1         0         0  "
      ]
     },
     "execution_count": 55,
     "metadata": {},
     "output_type": "execute_result"
    }
   ],
   "source": [
    "# feature, or input, dataframe\n",
    "NFL_rush_x  = NFL_rush.drop(['yards_gained', 'play_type'], axis=1)\n",
    "NFL_rush_x.head()"
   ]
  },
  {
   "cell_type": "code",
   "execution_count": 56,
   "metadata": {},
   "outputs": [
    {
     "data": {
      "text/plain": [
       "array([[3.520e+02, 5.000e+01, 7.000e+00, ..., 0.000e+00, 0.000e+00,\n",
       "        0.000e+00],\n",
       "       [2.852e+03, 7.000e+01, 1.000e+01, ..., 0.000e+00, 0.000e+00,\n",
       "        0.000e+00],\n",
       "       [2.479e+03, 8.500e+01, 5.000e+00, ..., 1.000e+00, 0.000e+00,\n",
       "        0.000e+00],\n",
       "       ...,\n",
       "       [3.103e+03, 4.400e+01, 9.000e+00, ..., 0.000e+00, 0.000e+00,\n",
       "        0.000e+00],\n",
       "       [2.938e+03, 5.100e+01, 9.000e+00, ..., 1.000e+00, 0.000e+00,\n",
       "        0.000e+00],\n",
       "       [2.620e+02, 4.000e+01, 1.000e+01, ..., 0.000e+00, 0.000e+00,\n",
       "        0.000e+00]])"
      ]
     },
     "execution_count": 56,
     "metadata": {},
     "output_type": "execute_result"
    }
   ],
   "source": [
    "NFL_rush_x = NFL_rush_x.values\n",
    "NFL_rush_x"
   ]
  },
  {
   "cell_type": "code",
   "execution_count": 57,
   "metadata": {},
   "outputs": [
    {
     "data": {
      "text/plain": [
       "array([0., 1., 0., ..., 1., 1., 0.])"
      ]
     },
     "execution_count": 57,
     "metadata": {},
     "output_type": "execute_result"
    }
   ],
   "source": [
    "# label, or output, dataframe\n",
    "NFL_rush_y = NFL_rush['yards_gained'].values\n",
    "NFL_rush_y"
   ]
  },
  {
   "cell_type": "code",
   "execution_count": 58,
   "metadata": {},
   "outputs": [
    {
     "name": "stdout",
     "output_type": "stream",
     "text": [
      "[1. 0. 0. 0.]\n"
     ]
    }
   ],
   "source": [
    "# covert the yards gained into categorical variables\n",
    "NFL_rush_y = tf.keras.utils.to_categorical(NFL_rush_y, num_classes=4)\n",
    "print(NFL_rush_y[0])"
   ]
  },
  {
   "cell_type": "code",
   "execution_count": 59,
   "metadata": {},
   "outputs": [],
   "source": [
    "#split the data\n",
    "valid_split = 0.2\n",
    "test_split = 0.1"
   ]
  },
  {
   "cell_type": "code",
   "execution_count": 60,
   "metadata": {},
   "outputs": [],
   "source": [
    "# create the splits in the dataframe\n",
    "v_split = int(NFL_rush.shape[0]*(1-valid_split-test_split))\n",
    "t_split = int(NFL_rush.shape[0]*(1-test_split))\n",
    "\n",
    "# assign training, validation, and test data\n",
    "X_train, Y_train  = NFL_rush_x[:v_split], NFL_rush_y[:v_split]\n",
    "X_valid, Y_valid  = NFL_rush_x[v_split:t_split], NFL_rush_y[v_split:t_split]\n",
    "X_test , Y_test   = NFL_rush_x[t_split:], NFL_rush_y[t_split:]"
   ]
  },
  {
   "cell_type": "code",
   "execution_count": 61,
   "metadata": {},
   "outputs": [],
   "source": [
    "#standardize the data\n",
    "scaler = preprocessing.StandardScaler().fit(X_train[:,0:7]) # mean and variance calculated on specified columns of X_train\n",
    "X_train[:,0:7] = scaler.transform(X_train[:,0:7])\n",
    "X_valid[:,0:7] = scaler.transform(X_valid[:,0:7])\n",
    "X_test[:,0:7]  = scaler.transform(X_test[:,0:7])  "
   ]
  },
  {
   "cell_type": "markdown",
   "metadata": {},
   "source": [
    "BASIC MODEL, RUSHING"
   ]
  },
  {
   "cell_type": "code",
   "execution_count": 62,
   "metadata": {},
   "outputs": [],
   "source": [
    "# initiate model\n",
    "model = Sequential()\n",
    "\n",
    "# add layers\n",
    "model.add(Dense(20, \n",
    "                input_shape=(NFL_rush_x.shape[1],), \n",
    "                activation='relu', \n",
    "                kernel_initializer='he_normal'))\n",
    "model.add(Dense(4, \n",
    "                activation='softmax'))"
   ]
  },
  {
   "cell_type": "code",
   "execution_count": 63,
   "metadata": {},
   "outputs": [],
   "source": [
    "model.compile(loss='categorical_crossentropy', \n",
    "              optimizer=Adam(learning_rate=0.1),\n",
    "              metrics=['accuracy'])"
   ]
  },
  {
   "cell_type": "code",
   "execution_count": 64,
   "metadata": {},
   "outputs": [],
   "source": [
    "es = EarlyStopping(monitor='val_loss', \n",
    "                   patience=10, \n",
    "                   verbose=1,\n",
    "                   restore_best_weights=True)"
   ]
  },
  {
   "cell_type": "code",
   "execution_count": 65,
   "metadata": {},
   "outputs": [
    {
     "name": "stdout",
     "output_type": "stream",
     "text": [
      "Epoch 1/1000\n",
      "603/603 [==============================] - 1s 1ms/step - loss: 1.2489 - accuracy: 0.4342 - val_loss: 1.2401 - val_accuracy: 0.4361\n",
      "Epoch 2/1000\n",
      "603/603 [==============================] - 1s 1ms/step - loss: 1.2425 - accuracy: 0.4351 - val_loss: 1.2450 - val_accuracy: 0.4361\n",
      "Epoch 3/1000\n",
      "603/603 [==============================] - 1s 1ms/step - loss: 1.2422 - accuracy: 0.4367 - val_loss: 1.2406 - val_accuracy: 0.4361\n",
      "Epoch 4/1000\n",
      "603/603 [==============================] - 1s 1ms/step - loss: 1.2434 - accuracy: 0.4373 - val_loss: 1.2444 - val_accuracy: 0.4361\n",
      "Epoch 5/1000\n",
      "603/603 [==============================] - 1s 1ms/step - loss: 1.2439 - accuracy: 0.4373 - val_loss: 1.2454 - val_accuracy: 0.4361\n",
      "Epoch 6/1000\n",
      "603/603 [==============================] - 1s 1ms/step - loss: 1.2441 - accuracy: 0.4374 - val_loss: 1.2470 - val_accuracy: 0.4361\n",
      "Epoch 7/1000\n",
      "603/603 [==============================] - 1s 2ms/step - loss: 1.2450 - accuracy: 0.4358 - val_loss: 1.2459 - val_accuracy: 0.4361\n",
      "Epoch 8/1000\n",
      "603/603 [==============================] - 1s 1ms/step - loss: 1.2440 - accuracy: 0.4365 - val_loss: 1.2514 - val_accuracy: 0.4361\n",
      "Epoch 9/1000\n",
      "603/603 [==============================] - 1s 1ms/step - loss: 1.2439 - accuracy: 0.4374 - val_loss: 1.2452 - val_accuracy: 0.4361\n",
      "Epoch 10/1000\n",
      "603/603 [==============================] - 1s 1ms/step - loss: 1.2430 - accuracy: 0.4368 - val_loss: 1.2461 - val_accuracy: 0.4361\n",
      "Epoch 11/1000\n",
      "603/603 [==============================] - 1s 1ms/step - loss: 1.2442 - accuracy: 0.4371 - val_loss: 1.2452 - val_accuracy: 0.4361\n",
      "Restoring model weights from the end of the best epoch.\n",
      "Epoch 00011: early stopping\n"
     ]
    },
    {
     "data": {
      "text/plain": [
       "<keras.callbacks.History at 0x29c0364f460>"
      ]
     },
     "execution_count": 65,
     "metadata": {},
     "output_type": "execute_result"
    }
   ],
   "source": [
    "model.fit(X_train, Y_train, \n",
    "          epochs=1000, \n",
    "          callbacks=[es],\n",
    "          batch_size=156, \n",
    "          shuffle=True,  \n",
    "          validation_data=(X_valid, Y_valid))"
   ]
  },
  {
   "cell_type": "code",
   "execution_count": 66,
   "metadata": {},
   "outputs": [
    {
     "name": "stdout",
     "output_type": "stream",
     "text": [
      "420/420 [==============================] - 0s 788us/step - loss: 1.2463 - accuracy: 0.4319\n"
     ]
    },
    {
     "data": {
      "text/plain": [
       "[1.2463256120681763, 0.43191298842430115]"
      ]
     },
     "execution_count": 66,
     "metadata": {},
     "output_type": "execute_result"
    }
   ],
   "source": [
    "model.evaluate(X_test, Y_test)"
   ]
  },
  {
   "cell_type": "code",
   "execution_count": 67,
   "metadata": {},
   "outputs": [
    {
     "data": {
      "text/plain": [
       "<AxesSubplot:>"
      ]
     },
     "execution_count": 67,
     "metadata": {},
     "output_type": "execute_result"
    },
    {
     "data": {
      "image/png": "[encoded data removed]",
      "text/plain": [
       "<Figure size 432x288 with 2 Axes>"
      ]
     },
     "metadata": {
      "needs_background": "light"
     },
     "output_type": "display_data"
    }
   ],
   "source": [
    "preds = model.predict(X_test)\n",
    "preds_label = np.argmax(preds, axis=1)\n",
    "\n",
    "conf = confusion_matrix(preds_label, np.argmax(Y_test, axis=1))\n",
    "sns.heatmap(conf, annot=True, fmt='d')"
   ]
  },
  {
   "cell_type": "markdown",
   "metadata": {},
   "source": [
    "COMPLEX FULLY CONNECTED, RUSHING"
   ]
  },
  {
   "cell_type": "code",
   "execution_count": 68,
   "metadata": {},
   "outputs": [
    {
     "name": "stdout",
     "output_type": "stream",
     "text": [
      "Epoch 1/1000\n",
      "603/603 [==============================] - 1s 1ms/step - loss: 1.2903 - accuracy: 0.4066 - val_loss: 1.2815 - val_accuracy: 0.4017\n",
      "Epoch 2/1000\n",
      "603/603 [==============================] - 1s 1ms/step - loss: 1.2840 - accuracy: 0.4103 - val_loss: 1.2570 - val_accuracy: 0.4265\n",
      "Epoch 3/1000\n",
      "603/603 [==============================] - 1s 1ms/step - loss: 1.2858 - accuracy: 0.4096 - val_loss: 1.3300 - val_accuracy: 0.3061\n",
      "Epoch 4/1000\n",
      "603/603 [==============================] - 1s 1ms/step - loss: 1.2828 - accuracy: 0.4100 - val_loss: 1.2565 - val_accuracy: 0.4361\n",
      "Epoch 5/1000\n",
      "603/603 [==============================] - 1s 1ms/step - loss: 1.2880 - accuracy: 0.4094 - val_loss: 1.2677 - val_accuracy: 0.3790\n",
      "Epoch 6/1000\n",
      "603/603 [==============================] - 1s 1ms/step - loss: 1.2884 - accuracy: 0.4075 - val_loss: 1.2925 - val_accuracy: 0.3823\n",
      "Epoch 7/1000\n",
      "603/603 [==============================] - 1s 1ms/step - loss: 1.2859 - accuracy: 0.4098 - val_loss: 1.3075 - val_accuracy: 0.3664\n",
      "Epoch 8/1000\n",
      "603/603 [==============================] - 1s 1ms/step - loss: 1.2938 - accuracy: 0.4054 - val_loss: 1.2677 - val_accuracy: 0.4360\n",
      "Epoch 9/1000\n",
      "603/603 [==============================] - 1s 1ms/step - loss: 1.2854 - accuracy: 0.4081 - val_loss: 1.2813 - val_accuracy: 0.3856\n",
      "Epoch 10/1000\n",
      "603/603 [==============================] - 1s 1ms/step - loss: 1.2895 - accuracy: 0.4074 - val_loss: 1.3126 - val_accuracy: 0.4333\n",
      "Epoch 11/1000\n",
      "603/603 [==============================] - 1s 1ms/step - loss: 1.2862 - accuracy: 0.4080 - val_loss: 1.3540 - val_accuracy: 0.4361\n",
      "Epoch 12/1000\n",
      "603/603 [==============================] - 1s 1ms/step - loss: 1.2908 - accuracy: 0.4058 - val_loss: 1.3150 - val_accuracy: 0.3092\n",
      "Epoch 13/1000\n",
      "603/603 [==============================] - 1s 1ms/step - loss: 1.2871 - accuracy: 0.4108 - val_loss: 1.3066 - val_accuracy: 0.3256\n",
      "Epoch 14/1000\n",
      "603/603 [==============================] - 1s 1ms/step - loss: 1.2889 - accuracy: 0.4098 - val_loss: 1.2651 - val_accuracy: 0.4358\n",
      "Restoring model weights from the end of the best epoch.\n",
      "Epoch 00014: early stopping\n"
     ]
    },
    {
     "data": {
      "text/plain": [
       "<keras.callbacks.History at 0x29bc4a87070>"
      ]
     },
     "execution_count": 68,
     "metadata": {},
     "output_type": "execute_result"
    }
   ],
   "source": [
    "# initiate model\n",
    "model = Sequential()\n",
    "\n",
    "# add layers\n",
    "model.add(Dense(20, \n",
    "                activation='tanh'))\n",
    "model.add(Dense(20, \n",
    "                activation='tanh'))\n",
    "model.add(Dense(20,  \n",
    "                activation='tanh'))\n",
    "model.add(Dense(4, \n",
    "                activation='softmax'))\n",
    "\n",
    "\n",
    "model.compile(loss='categorical_crossentropy', \n",
    "              optimizer=Adam(learning_rate=0.1),\n",
    "              metrics=['accuracy'])\n",
    "\n",
    "es = EarlyStopping(monitor='val_loss', \n",
    "                   patience=10, \n",
    "                   verbose=1,\n",
    "                   restore_best_weights=True)\n",
    "\n",
    "model.fit(X_train, Y_train, \n",
    "          epochs=1000, \n",
    "          callbacks=[es],\n",
    "          batch_size=156, \n",
    "          shuffle=True,  \n",
    "          validation_data=(X_valid, Y_valid))"
   ]
  },
  {
   "cell_type": "code",
   "execution_count": 69,
   "metadata": {},
   "outputs": [
    {
     "name": "stdout",
     "output_type": "stream",
     "text": [
      "420/420 [==============================] - 0s 814us/step - loss: 1.2618 - accuracy: 0.4319\n"
     ]
    },
    {
     "data": {
      "text/plain": [
       "[1.2617608308792114, 0.43191298842430115]"
      ]
     },
     "execution_count": 69,
     "metadata": {},
     "output_type": "execute_result"
    }
   ],
   "source": [
    "model.evaluate(X_test, Y_test)"
   ]
  },
  {
   "cell_type": "code",
   "execution_count": 70,
   "metadata": {},
   "outputs": [
    {
     "data": {
      "text/plain": [
       "<AxesSubplot:>"
      ]
     },
     "execution_count": 70,
     "metadata": {},
     "output_type": "execute_result"
    },
    {
     "data": {
      "image/png": "[encoded data removed]",
      "text/plain": [
       "<Figure size 432x288 with 2 Axes>"
      ]
     },
     "metadata": {
      "needs_background": "light"
     },
     "output_type": "display_data"
    }
   ],
   "source": [
    "preds = model.predict(X_test)\n",
    "preds_label = np.argmax(preds, axis=1)\n",
    "\n",
    "conf = confusion_matrix(preds_label, np.argmax(Y_test, axis=1))\n",
    "sns.heatmap(conf, annot=True, fmt='d')"
   ]
  },
  {
   "cell_type": "markdown",
   "metadata": {},
   "source": [
    "BASIC MODEL, RESIDUAL CONNECTIONS"
   ]
  },
  {
   "cell_type": "code",
   "execution_count": 71,
   "metadata": {},
   "outputs": [],
   "source": [
    "# Model\n",
    "inp = Input(shape=(X_train.shape[1],))\n",
    "\n",
    "x = inp\n",
    "x = Dense(10, activation='relu', \n",
    "              kernel_initializer='he_normal')(x)\n",
    "x = Dense(5, activation='relu', \n",
    "             kernel_initializer='he_normal')(x)\n",
    "\n",
    "res = Dense(5, activation='relu', \n",
    "               kernel_initializer='he_normal')(inp)\n",
    "\n",
    "x = add([x,res])\n",
    "\n",
    "out = Dense(4, activation='softmax')(x)"
   ]
  },
  {
   "cell_type": "code",
   "execution_count": 72,
   "metadata": {},
   "outputs": [],
   "source": [
    "model = Model(inputs = inp, outputs=out)"
   ]
  },
  {
   "cell_type": "code",
   "execution_count": 73,
   "metadata": {},
   "outputs": [
    {
     "name": "stdout",
     "output_type": "stream",
     "text": [
      "Epoch 1/10000\n",
      "603/603 [==============================] - 1s 1ms/step - loss: 1.2493 - accuracy: 0.4357 - val_loss: 1.2540 - val_accuracy: 0.4361\n",
      "Epoch 2/10000\n",
      "603/603 [==============================] - 1s 1ms/step - loss: 1.2450 - accuracy: 0.4367 - val_loss: 1.2511 - val_accuracy: 0.4361\n",
      "Epoch 3/10000\n",
      "603/603 [==============================] - 1s 1ms/step - loss: 1.2424 - accuracy: 0.4372 - val_loss: 1.2450 - val_accuracy: 0.4361\n",
      "Epoch 4/10000\n",
      "603/603 [==============================] - 1s 1ms/step - loss: 1.2423 - accuracy: 0.4374 - val_loss: 1.2473 - val_accuracy: 0.4361\n",
      "Epoch 5/10000\n",
      "603/603 [==============================] - 1s 1ms/step - loss: 1.2421 - accuracy: 0.4369 - val_loss: 1.2429 - val_accuracy: 0.4361\n",
      "Epoch 6/10000\n",
      "603/603 [==============================] - 1s 1ms/step - loss: 1.2423 - accuracy: 0.4373 - val_loss: 1.2446 - val_accuracy: 0.4361\n",
      "Epoch 7/10000\n",
      "603/603 [==============================] - 1s 1ms/step - loss: 1.2436 - accuracy: 0.4368 - val_loss: 1.2510 - val_accuracy: 0.4361\n",
      "Epoch 8/10000\n",
      "603/603 [==============================] - 1s 1ms/step - loss: 1.2452 - accuracy: 0.4374 - val_loss: 1.2440 - val_accuracy: 0.4361\n",
      "Epoch 9/10000\n",
      "603/603 [==============================] - 1s 1ms/step - loss: 1.2438 - accuracy: 0.4374 - val_loss: 1.2498 - val_accuracy: 0.4361\n",
      "Epoch 10/10000\n",
      "603/603 [==============================] - 1s 1ms/step - loss: 1.2447 - accuracy: 0.4374 - val_loss: 1.2474 - val_accuracy: 0.4361\n",
      "Epoch 11/10000\n",
      "603/603 [==============================] - 1s 1ms/step - loss: 1.2439 - accuracy: 0.4374 - val_loss: 1.2439 - val_accuracy: 0.4361\n",
      "Epoch 12/10000\n",
      "603/603 [==============================] - 1s 1ms/step - loss: 1.2436 - accuracy: 0.4367 - val_loss: 1.2440 - val_accuracy: 0.4361\n",
      "Epoch 13/10000\n",
      "603/603 [==============================] - 1s 1ms/step - loss: 1.2428 - accuracy: 0.4368 - val_loss: 1.2447 - val_accuracy: 0.4361\n",
      "Epoch 14/10000\n",
      "603/603 [==============================] - 1s 1ms/step - loss: 1.2434 - accuracy: 0.4374 - val_loss: 1.2438 - val_accuracy: 0.4361\n",
      "Epoch 15/10000\n",
      "603/603 [==============================] - 1s 1ms/step - loss: 1.2454 - accuracy: 0.4374 - val_loss: 1.2435 - val_accuracy: 0.4361\n"
     ]
    },
    {
     "data": {
      "text/plain": [
       "<keras.callbacks.History at 0x29c088c0fa0>"
      ]
     },
     "execution_count": 73,
     "metadata": {},
     "output_type": "execute_result"
    }
   ],
   "source": [
    "es = EarlyStopping(patience=10, \n",
    "                   monitor='val_loss', \n",
    "                   restore_best_weights=True)\n",
    "model.compile(loss='categorical_crossentropy', \n",
    "              optimizer=Adam(learning_rate=0.1),\n",
    "              metrics=['accuracy'])\n",
    "model.fit(X_train, Y_train, \n",
    "          validation_data=(X_valid, Y_valid),\n",
    "          epochs=10000, \n",
    "          batch_size=156,\n",
    "          callbacks=[es])"
   ]
  },
  {
   "cell_type": "code",
   "execution_count": 74,
   "metadata": {},
   "outputs": [
    {
     "name": "stdout",
     "output_type": "stream",
     "text": [
      "420/420 [==============================] - 0s 772us/step - loss: 1.2489 - accuracy: 0.4319\n"
     ]
    },
    {
     "data": {
      "text/plain": [
       "[1.2489216327667236, 0.43191298842430115]"
      ]
     },
     "execution_count": 74,
     "metadata": {},
     "output_type": "execute_result"
    }
   ],
   "source": [
    "model.evaluate(X_test, Y_test)"
   ]
  },
  {
   "cell_type": "code",
   "execution_count": 75,
   "metadata": {},
   "outputs": [
    {
     "data": {
      "text/plain": [
       "<AxesSubplot:>"
      ]
     },
     "execution_count": 75,
     "metadata": {},
     "output_type": "execute_result"
    },
    {
     "data": {
      "image/png": "[encoded data removed]",
      "text/plain": [
       "<Figure size 432x288 with 2 Axes>"
      ]
     },
     "metadata": {
      "needs_background": "light"
     },
     "output_type": "display_data"
    }
   ],
   "source": [
    "preds = model.predict(X_test)\n",
    "preds_label = np.argmax(preds, axis=1)\n",
    "\n",
    "conf = confusion_matrix(preds_label, np.argmax(Y_test, axis=1))\n",
    "sns.heatmap(conf, annot=True, fmt='d')"
   ]
  },
  {
   "cell_type": "markdown",
   "metadata": {},
   "source": [
    "COMPLEX MODEL, RESIDUAL CONNECTIONS"
   ]
  },
  {
   "cell_type": "code",
   "execution_count": 76,
   "metadata": {},
   "outputs": [
    {
     "name": "stdout",
     "output_type": "stream",
     "text": [
      "Epoch 1/10000\n",
      "603/603 [==============================] - 2s 2ms/step - loss: 1.2499 - accuracy: 0.4356 - val_loss: 1.2509 - val_accuracy: 0.4361\n",
      "Epoch 2/10000\n",
      "603/603 [==============================] - 1s 1ms/step - loss: 1.2475 - accuracy: 0.4355 - val_loss: 1.2488 - val_accuracy: 0.4361\n",
      "Epoch 3/10000\n",
      "603/603 [==============================] - 1s 1ms/step - loss: 1.2471 - accuracy: 0.4373 - val_loss: 1.2485 - val_accuracy: 0.4361\n",
      "Epoch 4/10000\n",
      "603/603 [==============================] - 1s 1ms/step - loss: 1.2449 - accuracy: 0.4374 - val_loss: 1.2462 - val_accuracy: 0.4361\n",
      "Epoch 5/10000\n",
      "603/603 [==============================] - 1s 2ms/step - loss: 1.2456 - accuracy: 0.4367 - val_loss: 1.2451 - val_accuracy: 0.4361\n",
      "Epoch 6/10000\n",
      "603/603 [==============================] - 1s 2ms/step - loss: 1.2443 - accuracy: 0.4366 - val_loss: 1.2466 - val_accuracy: 0.4361\n",
      "Epoch 7/10000\n",
      "603/603 [==============================] - 1s 2ms/step - loss: 1.2446 - accuracy: 0.4374 - val_loss: 1.2536 - val_accuracy: 0.4361\n",
      "Epoch 8/10000\n",
      "603/603 [==============================] - 1s 1ms/step - loss: 1.2438 - accuracy: 0.4374 - val_loss: 1.2456 - val_accuracy: 0.4361\n",
      "Epoch 9/10000\n",
      "603/603 [==============================] - 1s 1ms/step - loss: 1.2440 - accuracy: 0.4369 - val_loss: 1.2539 - val_accuracy: 0.4361\n",
      "Epoch 10/10000\n",
      "603/603 [==============================] - 1s 1ms/step - loss: 1.2438 - accuracy: 0.4357 - val_loss: 1.2450 - val_accuracy: 0.4361\n",
      "Epoch 11/10000\n",
      "603/603 [==============================] - 1s 2ms/step - loss: 1.2447 - accuracy: 0.4368 - val_loss: 1.2433 - val_accuracy: 0.4361\n",
      "Epoch 12/10000\n",
      "603/603 [==============================] - 1s 1ms/step - loss: 1.2444 - accuracy: 0.4374 - val_loss: 1.2481 - val_accuracy: 0.4361\n",
      "Epoch 13/10000\n",
      "603/603 [==============================] - 1s 1ms/step - loss: 1.2444 - accuracy: 0.4364 - val_loss: 1.2477 - val_accuracy: 0.4361\n",
      "Epoch 14/10000\n",
      "603/603 [==============================] - 1s 1ms/step - loss: 1.2447 - accuracy: 0.4374 - val_loss: 1.2436 - val_accuracy: 0.4361\n",
      "Epoch 15/10000\n",
      "603/603 [==============================] - 1s 2ms/step - loss: 1.2428 - accuracy: 0.4374 - val_loss: 1.2468 - val_accuracy: 0.4361\n",
      "Epoch 16/10000\n",
      "603/603 [==============================] - 1s 2ms/step - loss: 1.2438 - accuracy: 0.4367 - val_loss: 1.2453 - val_accuracy: 0.4361\n",
      "Epoch 17/10000\n",
      "603/603 [==============================] - 1s 1ms/step - loss: 1.2446 - accuracy: 0.4364 - val_loss: 1.2547 - val_accuracy: 0.4361\n",
      "Epoch 18/10000\n",
      "603/603 [==============================] - 1s 1ms/step - loss: 1.2433 - accuracy: 0.4374 - val_loss: 1.2452 - val_accuracy: 0.4361\n",
      "Epoch 19/10000\n",
      "603/603 [==============================] - 1s 1ms/step - loss: 1.2436 - accuracy: 0.4374 - val_loss: 1.2500 - val_accuracy: 0.4361\n",
      "Epoch 20/10000\n",
      "603/603 [==============================] - 1s 1ms/step - loss: 1.2434 - accuracy: 0.4374 - val_loss: 1.2441 - val_accuracy: 0.4361\n",
      "Epoch 21/10000\n",
      "603/603 [==============================] - 1s 1ms/step - loss: 1.2440 - accuracy: 0.4369 - val_loss: 1.2459 - val_accuracy: 0.4361\n"
     ]
    },
    {
     "data": {
      "text/plain": [
       "<keras.callbacks.History at 0x29c0ca4f550>"
      ]
     },
     "execution_count": 76,
     "metadata": {},
     "output_type": "execute_result"
    }
   ],
   "source": [
    "inp = Input(shape=(X_train.shape[1],))\n",
    "\n",
    "x = inp\n",
    "# first pair\n",
    "x = Dense(8, activation='relu', \n",
    "             kernel_initializer='he_normal')(x)\n",
    "x = Dense(4, activation='relu', \n",
    "             kernel_initializer='he_normal')(x)\n",
    "res1 = Dense(4, activation='relu', \n",
    "                kernel_initializer='he_normal')(inp) # connection to the first pair\n",
    "x = add([x,res1]) # add first residual with first pair\n",
    "\n",
    "res2 = Dense(5, activation='relu', \n",
    "                kernel_initializer='he_normal')(x) # connection to second paiR\n",
    "\n",
    "# second pair\n",
    "x = Dense(10, activation='relu', \n",
    "              kernel_initializer='he_normal')(x)\n",
    "x = Dense(5, activation='relu', \n",
    "             kernel_initializer='he_normal')(x)\n",
    "x = add([x,res2]) # add second residual with second pair\n",
    "\n",
    "res3 = Dense(5, activation='relu', \n",
    "                kernel_initializer='he_normal')(inp) # connection across the whole network, beginning to second residual connection\n",
    "x = add([x, res3]) # add overaching residual with the output of the second pair/residual addition (x)\n",
    "\n",
    "out = Dense(4, activation='softmax')(x)\n",
    "\n",
    "\n",
    "model = Model(inputs = inp, outputs=out)\n",
    "\n",
    "es = EarlyStopping(patience=10, \n",
    "                   monitor='val_loss', \n",
    "                   restore_best_weights=True)\n",
    "model.compile(loss='categorical_crossentropy', \n",
    "              optimizer=Adam(learning_rate=0.1),\n",
    "              metrics=['accuracy'])\n",
    "model.fit(X_train, Y_train, \n",
    "          validation_data=(X_valid, Y_valid),\n",
    "          batch_size=156,\n",
    "          epochs=10000, \n",
    "          callbacks=[es])"
   ]
  },
  {
   "cell_type": "code",
   "execution_count": 77,
   "metadata": {},
   "outputs": [
    {
     "name": "stdout",
     "output_type": "stream",
     "text": [
      "420/420 [==============================] - 0s 795us/step - loss: 1.2469 - accuracy: 0.4319\n"
     ]
    },
    {
     "data": {
      "text/plain": [
       "[1.246877670288086, 0.43191298842430115]"
      ]
     },
     "execution_count": 77,
     "metadata": {},
     "output_type": "execute_result"
    }
   ],
   "source": [
    "model.evaluate(X_test, Y_test)"
   ]
  },
  {
   "cell_type": "code",
   "execution_count": 78,
   "metadata": {},
   "outputs": [
    {
     "data": {
      "text/plain": [
       "<AxesSubplot:>"
      ]
     },
     "execution_count": 78,
     "metadata": {},
     "output_type": "execute_result"
    },
    {
     "data": {
      "image/png": "[encoded data removed]",
      "text/plain": [
       "<Figure size 432x288 with 2 Axes>"
      ]
     },
     "metadata": {
      "needs_background": "light"
     },
     "output_type": "display_data"
    }
   ],
   "source": [
    "preds = model.predict(X_test)\n",
    "preds_label = np.argmax(preds, axis=1)\n",
    "\n",
    "conf = confusion_matrix(preds_label, np.argmax(Y_test, axis=1))\n",
    "sns.heatmap(conf, annot=True, fmt='d')"
   ]
  },
  {
   "cell_type": "markdown",
   "metadata": {},
   "source": [
    "GUESSING THE MAJORITY (PASSING)"
   ]
  },
  {
   "cell_type": "code",
   "execution_count": 79,
   "metadata": {},
   "outputs": [
    {
     "name": "stdout",
     "output_type": "stream",
     "text": [
      "Majority Guess: 0.47128161852674755\n"
     ]
    }
   ],
   "source": [
    "sum = (NFL_pass['yards_gained'] == 0).value_counts()\n",
    "target_majority = sum[1]/len(NFL_pass)\n",
    "print(\"Majority Guess:\", target_majority)"
   ]
  },
  {
   "cell_type": "markdown",
   "metadata": {},
   "source": [
    "GUESSING THE MAJORITY (RUSHING)"
   ]
  },
  {
   "cell_type": "code",
   "execution_count": 80,
   "metadata": {},
   "outputs": [
    {
     "name": "stdout",
     "output_type": "stream",
     "text": [
      "Majority Guess: 0.4365785886156574\n"
     ]
    }
   ],
   "source": [
    "sum = (NFL_rush['yards_gained'] == 0).value_counts()\n",
    "target_majority = sum[1]/len(NFL_rush)\n",
    "print(\"Majority Guess:\", target_majority)"
   ]
  },
  {
   "cell_type": "markdown",
   "metadata": {},
   "source": [
    "MULTIPLE LOGISTIC REGRESSION BASELINE (PASSING)"
   ]
  },
  {
   "cell_type": "code",
   "execution_count": 81,
   "metadata": {},
   "outputs": [],
   "source": [
    "from sklearn.linear_model import LogisticRegression\n",
    "from sklearn.model_selection import train_test_split"
   ]
  },
  {
   "cell_type": "code",
   "execution_count": 82,
   "metadata": {},
   "outputs": [],
   "source": [
    "pass_attrs = NFL_pass_x\n",
    "pass_labels = NFL_pass['yards_gained']"
   ]
  },
  {
   "cell_type": "code",
   "execution_count": 83,
   "metadata": {},
   "outputs": [],
   "source": [
    "pass_features_train, pass_features_test, pass_labels_train, pass_labels_test = train_test_split(pass_attrs, pass_labels, test_size=0.33, random_state=22)"
   ]
  },
  {
   "cell_type": "code",
   "execution_count": 84,
   "metadata": {},
   "outputs": [],
   "source": [
    "lm = LogisticRegression(multi_class='multinomial', solver='lbfgs')\n",
    "lm.fit(pass_features_train, pass_labels_train)\n",
    "pred_test = lm.predict(pass_features_test)"
   ]
  },
  {
   "cell_type": "code",
   "execution_count": 85,
   "metadata": {},
   "outputs": [
    {
     "name": "stdout",
     "output_type": "stream",
     "text": [
      "Accuracy: 0.46765500833508666\n"
     ]
    }
   ],
   "source": [
    "lm_accuracy = np.mean((pass_labels_test == pred_test))\n",
    "print(\"Accuracy:\", lm_accuracy)"
   ]
  },
  {
   "cell_type": "markdown",
   "metadata": {},
   "source": [
    "MULTIPLE LOGISTIC REGRESSION BASELINE (RUSHING)"
   ]
  },
  {
   "cell_type": "code",
   "execution_count": 86,
   "metadata": {},
   "outputs": [],
   "source": [
    "rush_attrs = NFL_rush_x\n",
    "rush_labels = NFL_rush['yards_gained']"
   ]
  },
  {
   "cell_type": "code",
   "execution_count": 87,
   "metadata": {},
   "outputs": [],
   "source": [
    "rush_features_train, rush_features_test, rush_labels_train, rush_labels_test = train_test_split(rush_attrs, rush_labels, test_size=0.33, random_state=22)"
   ]
  },
  {
   "cell_type": "code",
   "execution_count": 88,
   "metadata": {},
   "outputs": [],
   "source": [
    "lm = LogisticRegression(multi_class='multinomial', solver='lbfgs')\n",
    "lm.fit(rush_features_train, rush_labels_train)\n",
    "pred_test = lm.predict(rush_features_test)"
   ]
  },
  {
   "cell_type": "code",
   "execution_count": 89,
   "metadata": {},
   "outputs": [
    {
     "name": "stdout",
     "output_type": "stream",
     "text": [
      "Accuracy: 0.4329894580013093\n"
     ]
    }
   ],
   "source": [
    "lm_accuracy = np.mean((rush_labels_test == pred_test))\n",
    "print(\"Accuracy:\", lm_accuracy)"
   ]
  }
 ],
 "metadata": {
  "kernelspec": {
   "display_name": "Python 3",
   "language": "python",
   "name": "python3"
  },
  "language_info": {
   "codemirror_mode": {
    "name": "ipython",
    "version": 3
   },
   "file_extension": ".py",
   "mimetype": "text/x-python",
   "name": "python",
   "nbconvert_exporter": "python",
   "pygments_lexer": "ipython3",
   "version": "3.8.5"
  }
 },
 "nbformat": 4,
 "nbformat_minor": 4
}
